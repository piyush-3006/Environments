{
 "cells": [
  {
   "cell_type": "markdown",
   "metadata": {},
   "source": [
    "# Setting Up"
   ]
  },
  {
   "cell_type": "markdown",
   "metadata": {},
   "source": [
    "## Init"
   ]
  },
  {
   "cell_type": "code",
   "execution_count": 1,
   "metadata": {},
   "outputs": [],
   "source": [
    "import seaborn as sns\n",
    "import numpy as np\n",
    "import pandas as pd\n",
    "import collections # For frequency counting\n",
    "import findspark\n",
    "findspark.init(\"spark2/\")\n",
    "\n",
    "import pyspark\n",
    "from pyspark.sql import DataFrameNaFunctions\n",
    "from pyspark.sql.functions import lit # Create columns of *literal* value\n",
    "from pyspark.sql.functions import col # Returns a Column based on the \n",
    "                                      # given column name\n",
    "from pyspark.ml.feature import StringIndexer #label encoding\n",
    "from pyspark.ml import Pipeline\n",
    "\n",
    "sc = pyspark.SparkContext(appName=\"helloworld\")"
   ]
  },
  {
   "cell_type": "markdown",
   "metadata": {},
   "source": [
    "## SparkSession"
   ]
  },
  {
   "cell_type": "code",
   "execution_count": 2,
   "metadata": {},
   "outputs": [],
   "source": [
    "from pyspark.sql import SparkSession\n",
    "\n",
    "spark = SparkSession \\\n",
    "    .builder \\\n",
    "    .appName(\"Python Spark SQL basic example\") \\\n",
    "    .config(\"spark.some.config.option\", \"some-value\") \\\n",
    "    .getOrCreate()"
   ]
  },
  {
   "cell_type": "markdown",
   "metadata": {},
   "source": [
    "## Data"
   ]
  },
  {
   "cell_type": "code",
   "execution_count": 6,
   "metadata": {
    "collapsed": true
   },
   "outputs": [],
   "source": [
    "trainDF = spark.read.csv(\"data/train.csv\", header=\"true\")\n",
    "testDF = spark.read.csv(\"data/test.csv\", header=\"true\")"
   ]
  },
  {
   "cell_type": "markdown",
   "metadata": {},
   "source": [
    "**Combine train and test data.**"
   ]
  },
  {
   "cell_type": "code",
   "execution_count": 7,
   "metadata": {},
   "outputs": [
    {
     "data": {
      "text/plain": [
       "['PassengerId',\n",
       " 'Survived',\n",
       " 'Pclass',\n",
       " 'Name',\n",
       " 'Sex',\n",
       " 'Age',\n",
       " 'SibSp',\n",
       " 'Parch',\n",
       " 'Ticket',\n",
       " 'Fare',\n",
       " 'Cabin',\n",
       " 'Embarked']"
      ]
     },
     "execution_count": 7,
     "metadata": {},
     "output_type": "execute_result"
    }
   ],
   "source": [
    "trainDF.columns"
   ]
  },
  {
   "cell_type": "code",
   "execution_count": 9,
   "metadata": {},
   "outputs": [
    {
     "data": {
      "text/plain": [
       "[Row(Embarked='S'),\n",
       " Row(Embarked='C'),\n",
       " Row(Embarked='S'),\n",
       " Row(Embarked='S'),\n",
       " Row(Embarked='S'),\n",
       " Row(Embarked='Q'),\n",
       " Row(Embarked='S'),\n",
       " Row(Embarked='S'),\n",
       " Row(Embarked='S'),\n",
       " Row(Embarked='C'),\n",
       " Row(Embarked='S'),\n",
       " Row(Embarked='S'),\n",
       " Row(Embarked='S'),\n",
       " Row(Embarked='S'),\n",
       " Row(Embarked='S'),\n",
       " Row(Embarked='S'),\n",
       " Row(Embarked='Q'),\n",
       " Row(Embarked='S'),\n",
       " Row(Embarked='S'),\n",
       " Row(Embarked='C'),\n",
       " Row(Embarked='S'),\n",
       " Row(Embarked='S'),\n",
       " Row(Embarked='Q'),\n",
       " Row(Embarked='S'),\n",
       " Row(Embarked='S'),\n",
       " Row(Embarked='S'),\n",
       " Row(Embarked='C'),\n",
       " Row(Embarked='S'),\n",
       " Row(Embarked='Q'),\n",
       " Row(Embarked='S'),\n",
       " Row(Embarked='C'),\n",
       " Row(Embarked='C'),\n",
       " Row(Embarked='Q'),\n",
       " Row(Embarked='S'),\n",
       " Row(Embarked='C'),\n",
       " Row(Embarked='S'),\n",
       " Row(Embarked='C'),\n",
       " Row(Embarked='S'),\n",
       " Row(Embarked='S'),\n",
       " Row(Embarked='C'),\n",
       " Row(Embarked='S'),\n",
       " Row(Embarked='S'),\n",
       " Row(Embarked='C'),\n",
       " Row(Embarked='C'),\n",
       " Row(Embarked='Q'),\n",
       " Row(Embarked='S'),\n",
       " Row(Embarked='Q'),\n",
       " Row(Embarked='Q'),\n",
       " Row(Embarked='C'),\n",
       " Row(Embarked='S'),\n",
       " Row(Embarked='S'),\n",
       " Row(Embarked='S'),\n",
       " Row(Embarked='C'),\n",
       " Row(Embarked='S'),\n",
       " Row(Embarked='C'),\n",
       " Row(Embarked='S'),\n",
       " Row(Embarked='S'),\n",
       " Row(Embarked='C'),\n",
       " Row(Embarked='S'),\n",
       " Row(Embarked='S'),\n",
       " Row(Embarked='C'),\n",
       " Row(Embarked=''),\n",
       " Row(Embarked='S'),\n",
       " Row(Embarked='S'),\n",
       " Row(Embarked='C'),\n",
       " Row(Embarked='C'),\n",
       " Row(Embarked='S'),\n",
       " Row(Embarked='S'),\n",
       " Row(Embarked='S'),\n",
       " Row(Embarked='S'),\n",
       " Row(Embarked='S'),\n",
       " Row(Embarked='S'),\n",
       " Row(Embarked='S'),\n",
       " Row(Embarked='C'),\n",
       " Row(Embarked='S'),\n",
       " Row(Embarked='S'),\n",
       " Row(Embarked='S'),\n",
       " Row(Embarked='S'),\n",
       " Row(Embarked='S'),\n",
       " Row(Embarked='S'),\n",
       " Row(Embarked='S'),\n",
       " Row(Embarked='S'),\n",
       " Row(Embarked='Q'),\n",
       " Row(Embarked='S'),\n",
       " Row(Embarked='S'),\n",
       " Row(Embarked='S'),\n",
       " Row(Embarked='S'),\n",
       " Row(Embarked='S'),\n",
       " Row(Embarked='S'),\n",
       " Row(Embarked='S'),\n",
       " Row(Embarked='S'),\n",
       " Row(Embarked='S'),\n",
       " Row(Embarked='S'),\n",
       " Row(Embarked='S'),\n",
       " Row(Embarked='S'),\n",
       " Row(Embarked='S'),\n",
       " Row(Embarked='C'),\n",
       " Row(Embarked='C'),\n",
       " Row(Embarked='S'),\n",
       " Row(Embarked='S'),\n",
       " Row(Embarked='S'),\n",
       " Row(Embarked='S'),\n",
       " Row(Embarked='S'),\n",
       " Row(Embarked='S'),\n",
       " Row(Embarked='S'),\n",
       " Row(Embarked='S'),\n",
       " Row(Embarked='S'),\n",
       " Row(Embarked='S'),\n",
       " Row(Embarked='S'),\n",
       " Row(Embarked='Q'),\n",
       " Row(Embarked='S'),\n",
       " Row(Embarked='C'),\n",
       " Row(Embarked='S'),\n",
       " Row(Embarked='S'),\n",
       " Row(Embarked='C'),\n",
       " Row(Embarked='S'),\n",
       " Row(Embarked='Q'),\n",
       " Row(Embarked='S'),\n",
       " Row(Embarked='C'),\n",
       " Row(Embarked='S'),\n",
       " Row(Embarked='S'),\n",
       " Row(Embarked='S'),\n",
       " Row(Embarked='C'),\n",
       " Row(Embarked='S'),\n",
       " Row(Embarked='S'),\n",
       " Row(Embarked='C'),\n",
       " Row(Embarked='Q'),\n",
       " Row(Embarked='S'),\n",
       " Row(Embarked='C'),\n",
       " Row(Embarked='S'),\n",
       " Row(Embarked='C'),\n",
       " Row(Embarked='S'),\n",
       " Row(Embarked='S'),\n",
       " Row(Embarked='S'),\n",
       " Row(Embarked='S'),\n",
       " Row(Embarked='C'),\n",
       " Row(Embarked='S'),\n",
       " Row(Embarked='S'),\n",
       " Row(Embarked='S'),\n",
       " Row(Embarked='C'),\n",
       " Row(Embarked='C'),\n",
       " Row(Embarked='S'),\n",
       " Row(Embarked='S'),\n",
       " Row(Embarked='Q'),\n",
       " Row(Embarked='S'),\n",
       " Row(Embarked='S'),\n",
       " Row(Embarked='S'),\n",
       " Row(Embarked='S'),\n",
       " Row(Embarked='S'),\n",
       " Row(Embarked='S'),\n",
       " Row(Embarked='S'),\n",
       " Row(Embarked='S'),\n",
       " Row(Embarked='S'),\n",
       " Row(Embarked='S'),\n",
       " Row(Embarked='S'),\n",
       " Row(Embarked='C'),\n",
       " Row(Embarked='Q'),\n",
       " Row(Embarked='S'),\n",
       " Row(Embarked='S'),\n",
       " Row(Embarked='S'),\n",
       " Row(Embarked='S'),\n",
       " Row(Embarked='S'),\n",
       " Row(Embarked='S'),\n",
       " Row(Embarked='S'),\n",
       " Row(Embarked='S'),\n",
       " Row(Embarked='S'),\n",
       " Row(Embarked='S'),\n",
       " Row(Embarked='S'),\n",
       " Row(Embarked='S'),\n",
       " Row(Embarked='S'),\n",
       " Row(Embarked='S'),\n",
       " Row(Embarked='Q'),\n",
       " Row(Embarked='S'),\n",
       " Row(Embarked='S'),\n",
       " Row(Embarked='C'),\n",
       " Row(Embarked='S'),\n",
       " Row(Embarked='S'),\n",
       " Row(Embarked='C'),\n",
       " Row(Embarked='S'),\n",
       " Row(Embarked='S'),\n",
       " Row(Embarked='S'),\n",
       " Row(Embarked='C'),\n",
       " Row(Embarked='S'),\n",
       " Row(Embarked='S'),\n",
       " Row(Embarked='S'),\n",
       " Row(Embarked='S'),\n",
       " Row(Embarked='Q'),\n",
       " Row(Embarked='S'),\n",
       " Row(Embarked='Q'),\n",
       " Row(Embarked='S'),\n",
       " Row(Embarked='S'),\n",
       " Row(Embarked='S'),\n",
       " Row(Embarked='S'),\n",
       " Row(Embarked='S'),\n",
       " Row(Embarked='C'),\n",
       " Row(Embarked='C'),\n",
       " Row(Embarked='Q'),\n",
       " Row(Embarked='S'),\n",
       " Row(Embarked='Q'),\n",
       " Row(Embarked='S'),\n",
       " Row(Embarked='S'),\n",
       " Row(Embarked='S'),\n",
       " Row(Embarked='S'),\n",
       " Row(Embarked='C'),\n",
       " Row(Embarked='S'),\n",
       " Row(Embarked='S'),\n",
       " Row(Embarked='S'),\n",
       " Row(Embarked='C'),\n",
       " Row(Embarked='Q'),\n",
       " Row(Embarked='C'),\n",
       " Row(Embarked='S'),\n",
       " Row(Embarked='S'),\n",
       " Row(Embarked='S'),\n",
       " Row(Embarked='S'),\n",
       " Row(Embarked='Q'),\n",
       " Row(Embarked='C'),\n",
       " Row(Embarked='S'),\n",
       " Row(Embarked='S'),\n",
       " Row(Embarked='C'),\n",
       " Row(Embarked='S'),\n",
       " Row(Embarked='S'),\n",
       " Row(Embarked='S'),\n",
       " Row(Embarked='S'),\n",
       " Row(Embarked='S'),\n",
       " Row(Embarked='S'),\n",
       " Row(Embarked='S'),\n",
       " Row(Embarked='S'),\n",
       " Row(Embarked='S'),\n",
       " Row(Embarked='S'),\n",
       " Row(Embarked='S'),\n",
       " Row(Embarked='S'),\n",
       " Row(Embarked='S'),\n",
       " Row(Embarked='S'),\n",
       " Row(Embarked='S'),\n",
       " Row(Embarked='S'),\n",
       " Row(Embarked='S'),\n",
       " Row(Embarked='S'),\n",
       " Row(Embarked='S'),\n",
       " Row(Embarked='S'),\n",
       " Row(Embarked='S'),\n",
       " Row(Embarked='C'),\n",
       " Row(Embarked='Q'),\n",
       " Row(Embarked='S'),\n",
       " Row(Embarked='S'),\n",
       " Row(Embarked='C'),\n",
       " Row(Embarked='Q'),\n",
       " Row(Embarked='S'),\n",
       " Row(Embarked='S'),\n",
       " Row(Embarked='S'),\n",
       " Row(Embarked='S'),\n",
       " Row(Embarked='S'),\n",
       " Row(Embarked='S'),\n",
       " Row(Embarked='S'),\n",
       " Row(Embarked='S'),\n",
       " Row(Embarked='S'),\n",
       " Row(Embarked='C'),\n",
       " Row(Embarked='C'),\n",
       " Row(Embarked='S'),\n",
       " Row(Embarked='C'),\n",
       " Row(Embarked='S'),\n",
       " Row(Embarked='Q'),\n",
       " Row(Embarked='S'),\n",
       " Row(Embarked='S'),\n",
       " Row(Embarked='S'),\n",
       " Row(Embarked='Q'),\n",
       " Row(Embarked='S'),\n",
       " Row(Embarked='S'),\n",
       " Row(Embarked='S'),\n",
       " Row(Embarked='S'),\n",
       " Row(Embarked='S'),\n",
       " Row(Embarked='S'),\n",
       " Row(Embarked='S'),\n",
       " Row(Embarked='S'),\n",
       " Row(Embarked='C'),\n",
       " Row(Embarked='Q'),\n",
       " Row(Embarked='S'),\n",
       " Row(Embarked='S'),\n",
       " Row(Embarked='S'),\n",
       " Row(Embarked='Q'),\n",
       " Row(Embarked='S'),\n",
       " Row(Embarked='Q'),\n",
       " Row(Embarked='S'),\n",
       " Row(Embarked='S'),\n",
       " Row(Embarked='S'),\n",
       " Row(Embarked='S'),\n",
       " Row(Embarked='C'),\n",
       " Row(Embarked='S'),\n",
       " Row(Embarked='S'),\n",
       " Row(Embarked='S'),\n",
       " Row(Embarked='Q'),\n",
       " Row(Embarked='S'),\n",
       " Row(Embarked='C'),\n",
       " Row(Embarked='C'),\n",
       " Row(Embarked='S'),\n",
       " Row(Embarked='S'),\n",
       " Row(Embarked='C'),\n",
       " Row(Embarked='C'),\n",
       " Row(Embarked='S'),\n",
       " Row(Embarked='S'),\n",
       " Row(Embarked='C'),\n",
       " Row(Embarked='Q'),\n",
       " Row(Embarked='Q'),\n",
       " Row(Embarked='S'),\n",
       " Row(Embarked='Q'),\n",
       " Row(Embarked='S'),\n",
       " Row(Embarked='S'),\n",
       " Row(Embarked='C'),\n",
       " Row(Embarked='C'),\n",
       " Row(Embarked='C'),\n",
       " Row(Embarked='C'),\n",
       " Row(Embarked='C'),\n",
       " Row(Embarked='C'),\n",
       " Row(Embarked='S'),\n",
       " Row(Embarked='S'),\n",
       " Row(Embarked='S'),\n",
       " Row(Embarked='S'),\n",
       " Row(Embarked='S'),\n",
       " Row(Embarked='S'),\n",
       " Row(Embarked='S'),\n",
       " Row(Embarked='C'),\n",
       " Row(Embarked='S'),\n",
       " Row(Embarked='S'),\n",
       " Row(Embarked='Q'),\n",
       " Row(Embarked='S'),\n",
       " Row(Embarked='S'),\n",
       " Row(Embarked='C'),\n",
       " Row(Embarked='S'),\n",
       " Row(Embarked='S'),\n",
       " Row(Embarked='S'),\n",
       " Row(Embarked='C'),\n",
       " Row(Embarked='Q'),\n",
       " Row(Embarked='S'),\n",
       " Row(Embarked='S'),\n",
       " Row(Embarked='S'),\n",
       " Row(Embarked='S'),\n",
       " Row(Embarked='S'),\n",
       " Row(Embarked='S'),\n",
       " Row(Embarked='C'),\n",
       " Row(Embarked='S'),\n",
       " Row(Embarked='S'),\n",
       " Row(Embarked='S'),\n",
       " Row(Embarked='S'),\n",
       " Row(Embarked='S'),\n",
       " Row(Embarked='S'),\n",
       " Row(Embarked='S'),\n",
       " Row(Embarked='S'),\n",
       " Row(Embarked='S'),\n",
       " Row(Embarked='S'),\n",
       " Row(Embarked='S'),\n",
       " Row(Embarked='S'),\n",
       " Row(Embarked='S'),\n",
       " Row(Embarked='S'),\n",
       " Row(Embarked='C'),\n",
       " Row(Embarked='S'),\n",
       " Row(Embarked='C'),\n",
       " Row(Embarked='S'),\n",
       " Row(Embarked='S'),\n",
       " Row(Embarked='S'),\n",
       " Row(Embarked='Q'),\n",
       " Row(Embarked='Q'),\n",
       " Row(Embarked='S'),\n",
       " Row(Embarked='C'),\n",
       " Row(Embarked='C'),\n",
       " Row(Embarked='S'),\n",
       " Row(Embarked='Q'),\n",
       " Row(Embarked='S'),\n",
       " Row(Embarked='C'),\n",
       " Row(Embarked='C'),\n",
       " Row(Embarked='Q'),\n",
       " Row(Embarked='C'),\n",
       " Row(Embarked='C'),\n",
       " Row(Embarked='S'),\n",
       " Row(Embarked='S'),\n",
       " Row(Embarked='C'),\n",
       " Row(Embarked='S'),\n",
       " Row(Embarked='C'),\n",
       " Row(Embarked='S'),\n",
       " Row(Embarked='C'),\n",
       " Row(Embarked='C'),\n",
       " Row(Embarked='S'),\n",
       " Row(Embarked='C'),\n",
       " Row(Embarked='C'),\n",
       " Row(Embarked='S'),\n",
       " Row(Embarked='S'),\n",
       " Row(Embarked='S'),\n",
       " Row(Embarked='S'),\n",
       " Row(Embarked='S'),\n",
       " Row(Embarked='S'),\n",
       " Row(Embarked='Q'),\n",
       " Row(Embarked='C'),\n",
       " Row(Embarked='S'),\n",
       " Row(Embarked='S'),\n",
       " Row(Embarked='S'),\n",
       " Row(Embarked='C'),\n",
       " Row(Embarked='S'),\n",
       " Row(Embarked='S'),\n",
       " Row(Embarked='S'),\n",
       " Row(Embarked='S'),\n",
       " Row(Embarked='S'),\n",
       " Row(Embarked='S'),\n",
       " Row(Embarked='S'),\n",
       " Row(Embarked='S'),\n",
       " Row(Embarked='S'),\n",
       " Row(Embarked='S'),\n",
       " Row(Embarked='S'),\n",
       " Row(Embarked='S'),\n",
       " Row(Embarked='S'),\n",
       " Row(Embarked='S'),\n",
       " Row(Embarked='S'),\n",
       " Row(Embarked='S'),\n",
       " Row(Embarked='S'),\n",
       " Row(Embarked='Q'),\n",
       " Row(Embarked='Q'),\n",
       " Row(Embarked='S'),\n",
       " Row(Embarked='S'),\n",
       " Row(Embarked='S'),\n",
       " Row(Embarked='S'),\n",
       " Row(Embarked='S'),\n",
       " Row(Embarked='S'),\n",
       " Row(Embarked='S'),\n",
       " Row(Embarked='C'),\n",
       " Row(Embarked='Q'),\n",
       " Row(Embarked='S'),\n",
       " Row(Embarked='S'),\n",
       " Row(Embarked='S'),\n",
       " Row(Embarked='S'),\n",
       " Row(Embarked='S'),\n",
       " Row(Embarked='S'),\n",
       " Row(Embarked='Q'),\n",
       " Row(Embarked='S'),\n",
       " Row(Embarked='S'),\n",
       " Row(Embarked='S'),\n",
       " Row(Embarked='S'),\n",
       " Row(Embarked='S'),\n",
       " Row(Embarked='S'),\n",
       " Row(Embarked='S'),\n",
       " Row(Embarked='S'),\n",
       " Row(Embarked='S'),\n",
       " Row(Embarked='S'),\n",
       " Row(Embarked='S'),\n",
       " Row(Embarked='S'),\n",
       " Row(Embarked='S'),\n",
       " Row(Embarked='S'),\n",
       " Row(Embarked='S'),\n",
       " Row(Embarked='S'),\n",
       " Row(Embarked='S'),\n",
       " Row(Embarked='S'),\n",
       " Row(Embarked='S'),\n",
       " Row(Embarked='C'),\n",
       " Row(Embarked='S'),\n",
       " Row(Embarked='S'),\n",
       " Row(Embarked='S'),\n",
       " Row(Embarked='C'),\n",
       " Row(Embarked='C'),\n",
       " Row(Embarked='S'),\n",
       " Row(Embarked='C'),\n",
       " Row(Embarked='S'),\n",
       " Row(Embarked='S'),\n",
       " Row(Embarked='S'),\n",
       " Row(Embarked='Q'),\n",
       " Row(Embarked='S'),\n",
       " Row(Embarked='S'),\n",
       " Row(Embarked='S'),\n",
       " Row(Embarked='S'),\n",
       " Row(Embarked='S'),\n",
       " Row(Embarked='S'),\n",
       " Row(Embarked='S'),\n",
       " Row(Embarked='S'),\n",
       " Row(Embarked='Q'),\n",
       " Row(Embarked='C'),\n",
       " Row(Embarked='S'),\n",
       " Row(Embarked='S'),\n",
       " Row(Embarked='S'),\n",
       " Row(Embarked='C'),\n",
       " Row(Embarked='S'),\n",
       " Row(Embarked='S'),\n",
       " Row(Embarked='S'),\n",
       " Row(Embarked='S'),\n",
       " Row(Embarked='S'),\n",
       " Row(Embarked='S'),\n",
       " Row(Embarked='S'),\n",
       " Row(Embarked='S'),\n",
       " Row(Embarked='S'),\n",
       " Row(Embarked='S'),\n",
       " Row(Embarked='C'),\n",
       " Row(Embarked='S'),\n",
       " Row(Embarked='S'),\n",
       " Row(Embarked='C'),\n",
       " Row(Embarked='S'),\n",
       " Row(Embarked='S'),\n",
       " Row(Embarked='S'),\n",
       " Row(Embarked='S'),\n",
       " Row(Embarked='S'),\n",
       " Row(Embarked='C'),\n",
       " Row(Embarked='S'),\n",
       " Row(Embarked='C'),\n",
       " Row(Embarked='C'),\n",
       " Row(Embarked='S'),\n",
       " Row(Embarked='S'),\n",
       " Row(Embarked='S'),\n",
       " Row(Embarked='S'),\n",
       " Row(Embarked='Q'),\n",
       " Row(Embarked='Q'),\n",
       " Row(Embarked='S'),\n",
       " Row(Embarked='S'),\n",
       " Row(Embarked='C'),\n",
       " Row(Embarked='S'),\n",
       " Row(Embarked='S'),\n",
       " Row(Embarked='S'),\n",
       " Row(Embarked='S'),\n",
       " Row(Embarked='Q'),\n",
       " Row(Embarked='S'),\n",
       " Row(Embarked='S'),\n",
       " Row(Embarked='C'),\n",
       " Row(Embarked='S'),\n",
       " Row(Embarked='S'),\n",
       " Row(Embarked='S'),\n",
       " Row(Embarked='Q'),\n",
       " Row(Embarked='S'),\n",
       " Row(Embarked='S'),\n",
       " Row(Embarked='S'),\n",
       " Row(Embarked='S'),\n",
       " Row(Embarked='C'),\n",
       " Row(Embarked='C'),\n",
       " Row(Embarked='C'),\n",
       " Row(Embarked='Q'),\n",
       " Row(Embarked='S'),\n",
       " Row(Embarked='S'),\n",
       " Row(Embarked='S'),\n",
       " Row(Embarked='S'),\n",
       " Row(Embarked='S'),\n",
       " Row(Embarked='C'),\n",
       " Row(Embarked='C'),\n",
       " Row(Embarked='C'),\n",
       " Row(Embarked='S'),\n",
       " Row(Embarked='S'),\n",
       " Row(Embarked='S'),\n",
       " Row(Embarked='C'),\n",
       " Row(Embarked='S'),\n",
       " Row(Embarked='C'),\n",
       " Row(Embarked='S'),\n",
       " Row(Embarked='S'),\n",
       " Row(Embarked='S'),\n",
       " Row(Embarked='S'),\n",
       " Row(Embarked='C'),\n",
       " Row(Embarked='S'),\n",
       " Row(Embarked='S'),\n",
       " Row(Embarked='C'),\n",
       " Row(Embarked='S'),\n",
       " Row(Embarked='S'),\n",
       " Row(Embarked='C'),\n",
       " Row(Embarked='S'),\n",
       " Row(Embarked='Q'),\n",
       " Row(Embarked='C'),\n",
       " Row(Embarked='S'),\n",
       " Row(Embarked='S'),\n",
       " Row(Embarked='C'),\n",
       " Row(Embarked='C'),\n",
       " Row(Embarked='S'),\n",
       " Row(Embarked='S'),\n",
       " Row(Embarked='Q'),\n",
       " Row(Embarked='S'),\n",
       " Row(Embarked='S'),\n",
       " Row(Embarked='S'),\n",
       " Row(Embarked='S'),\n",
       " Row(Embarked='S'),\n",
       " Row(Embarked='S'),\n",
       " Row(Embarked='S'),\n",
       " Row(Embarked='C'),\n",
       " Row(Embarked='S'),\n",
       " Row(Embarked='S'),\n",
       " Row(Embarked='S'),\n",
       " Row(Embarked='S'),\n",
       " Row(Embarked='Q'),\n",
       " Row(Embarked='S'),\n",
       " Row(Embarked='S'),\n",
       " Row(Embarked='S'),\n",
       " Row(Embarked='S'),\n",
       " Row(Embarked='C'),\n",
       " Row(Embarked='S'),\n",
       " Row(Embarked='S'),\n",
       " Row(Embarked='C'),\n",
       " Row(Embarked='S'),\n",
       " Row(Embarked='C'),\n",
       " Row(Embarked='C'),\n",
       " Row(Embarked='S'),\n",
       " Row(Embarked='S'),\n",
       " Row(Embarked='C'),\n",
       " Row(Embarked='S'),\n",
       " Row(Embarked='S'),\n",
       " Row(Embarked='S'),\n",
       " Row(Embarked='C'),\n",
       " Row(Embarked='S'),\n",
       " Row(Embarked='Q'),\n",
       " Row(Embarked='S'),\n",
       " Row(Embarked='S'),\n",
       " Row(Embarked='S'),\n",
       " Row(Embarked='S'),\n",
       " Row(Embarked='C'),\n",
       " Row(Embarked='C'),\n",
       " Row(Embarked='S'),\n",
       " Row(Embarked='S'),\n",
       " Row(Embarked='S'),\n",
       " Row(Embarked='S'),\n",
       " Row(Embarked='C'),\n",
       " Row(Embarked='S'),\n",
       " Row(Embarked='S'),\n",
       " Row(Embarked='S'),\n",
       " Row(Embarked='C'),\n",
       " Row(Embarked='S'),\n",
       " Row(Embarked='S'),\n",
       " Row(Embarked='S'),\n",
       " Row(Embarked='Q'),\n",
       " Row(Embarked='Q'),\n",
       " Row(Embarked='S'),\n",
       " Row(Embarked='S'),\n",
       " Row(Embarked='S'),\n",
       " Row(Embarked='S'),\n",
       " Row(Embarked='S'),\n",
       " Row(Embarked='S'),\n",
       " Row(Embarked='C'),\n",
       " Row(Embarked='S'),\n",
       " Row(Embarked='C'),\n",
       " Row(Embarked='S'),\n",
       " Row(Embarked='S'),\n",
       " Row(Embarked='S'),\n",
       " Row(Embarked='Q'),\n",
       " Row(Embarked='S'),\n",
       " Row(Embarked='S'),\n",
       " Row(Embarked='Q'),\n",
       " Row(Embarked='S'),\n",
       " Row(Embarked='S'),\n",
       " Row(Embarked='C'),\n",
       " Row(Embarked='S'),\n",
       " Row(Embarked='S'),\n",
       " Row(Embarked='S'),\n",
       " Row(Embarked='S'),\n",
       " Row(Embarked='S'),\n",
       " Row(Embarked='S'),\n",
       " Row(Embarked='S'),\n",
       " Row(Embarked='S'),\n",
       " Row(Embarked='C'),\n",
       " Row(Embarked='S'),\n",
       " Row(Embarked='S'),\n",
       " Row(Embarked='C'),\n",
       " Row(Embarked='C'),\n",
       " Row(Embarked='S'),\n",
       " Row(Embarked='C'),\n",
       " Row(Embarked='S'),\n",
       " Row(Embarked='S'),\n",
       " Row(Embarked='S'),\n",
       " Row(Embarked='S'),\n",
       " Row(Embarked='S'),\n",
       " Row(Embarked='Q'),\n",
       " Row(Embarked='Q'),\n",
       " Row(Embarked='S'),\n",
       " Row(Embarked='S'),\n",
       " Row(Embarked='Q'),\n",
       " Row(Embarked='S'),\n",
       " Row(Embarked='C'),\n",
       " Row(Embarked='S'),\n",
       " Row(Embarked='C'),\n",
       " Row(Embarked='S'),\n",
       " Row(Embarked='S'),\n",
       " Row(Embarked='S'),\n",
       " Row(Embarked='S'),\n",
       " Row(Embarked='S'),\n",
       " Row(Embarked='S'),\n",
       " Row(Embarked='S'),\n",
       " Row(Embarked='S'),\n",
       " Row(Embarked='S'),\n",
       " Row(Embarked='S'),\n",
       " Row(Embarked='S'),\n",
       " Row(Embarked='S'),\n",
       " Row(Embarked='S'),\n",
       " Row(Embarked='S'),\n",
       " Row(Embarked='S'),\n",
       " Row(Embarked='S'),\n",
       " Row(Embarked='S'),\n",
       " Row(Embarked='C'),\n",
       " Row(Embarked='Q'),\n",
       " Row(Embarked='C'),\n",
       " Row(Embarked='S'),\n",
       " Row(Embarked='S'),\n",
       " Row(Embarked='S'),\n",
       " Row(Embarked='C'),\n",
       " Row(Embarked='S'),\n",
       " Row(Embarked='S'),\n",
       " Row(Embarked='S'),\n",
       " Row(Embarked='S'),\n",
       " Row(Embarked='S'),\n",
       " Row(Embarked='C'),\n",
       " Row(Embarked='S'),\n",
       " Row(Embarked='C'),\n",
       " Row(Embarked='S'),\n",
       " Row(Embarked='S'),\n",
       " Row(Embarked='S'),\n",
       " Row(Embarked='Q'),\n",
       " Row(Embarked='C'),\n",
       " Row(Embarked='S'),\n",
       " Row(Embarked='C'),\n",
       " Row(Embarked='S'),\n",
       " Row(Embarked='C'),\n",
       " Row(Embarked='Q'),\n",
       " Row(Embarked='S'),\n",
       " Row(Embarked='S'),\n",
       " Row(Embarked='S'),\n",
       " Row(Embarked='S'),\n",
       " Row(Embarked='S'),\n",
       " Row(Embarked='C'),\n",
       " Row(Embarked='C'),\n",
       " Row(Embarked='S'),\n",
       " Row(Embarked='S'),\n",
       " Row(Embarked='S'),\n",
       " Row(Embarked='S'),\n",
       " Row(Embarked='S'),\n",
       " Row(Embarked='C'),\n",
       " Row(Embarked='S'),\n",
       " Row(Embarked='Q'),\n",
       " Row(Embarked='S'),\n",
       " Row(Embarked='S'),\n",
       " Row(Embarked='S'),\n",
       " Row(Embarked='S'),\n",
       " Row(Embarked='S'),\n",
       " Row(Embarked='S'),\n",
       " Row(Embarked='S'),\n",
       " Row(Embarked='S'),\n",
       " Row(Embarked='Q'),\n",
       " Row(Embarked='S'),\n",
       " Row(Embarked='S'),\n",
       " Row(Embarked='S'),\n",
       " Row(Embarked='C'),\n",
       " Row(Embarked='S'),\n",
       " Row(Embarked='S'),\n",
       " Row(Embarked='S'),\n",
       " Row(Embarked='S'),\n",
       " Row(Embarked='S'),\n",
       " Row(Embarked='C'),\n",
       " Row(Embarked='S'),\n",
       " Row(Embarked='S'),\n",
       " Row(Embarked='S'),\n",
       " Row(Embarked='S'),\n",
       " Row(Embarked='C'),\n",
       " Row(Embarked='S'),\n",
       " Row(Embarked='S'),\n",
       " Row(Embarked='S'),\n",
       " Row(Embarked='S'),\n",
       " Row(Embarked='S'),\n",
       " Row(Embarked='S'),\n",
       " Row(Embarked='Q'),\n",
       " Row(Embarked='S'),\n",
       " Row(Embarked='S'),\n",
       " Row(Embarked='S'),\n",
       " Row(Embarked='S'),\n",
       " Row(Embarked='S'),\n",
       " Row(Embarked='S'),\n",
       " Row(Embarked='S'),\n",
       " Row(Embarked='S'),\n",
       " Row(Embarked='S'),\n",
       " Row(Embarked='S'),\n",
       " Row(Embarked='S'),\n",
       " Row(Embarked='S'),\n",
       " Row(Embarked='C'),\n",
       " Row(Embarked='S'),\n",
       " Row(Embarked='S'),\n",
       " Row(Embarked='S'),\n",
       " Row(Embarked='C'),\n",
       " Row(Embarked='Q'),\n",
       " Row(Embarked='Q'),\n",
       " Row(Embarked='S'),\n",
       " Row(Embarked='S'),\n",
       " Row(Embarked='S'),\n",
       " Row(Embarked='S'),\n",
       " Row(Embarked='C'),\n",
       " Row(Embarked='S'),\n",
       " Row(Embarked='S'),\n",
       " Row(Embarked='Q'),\n",
       " Row(Embarked='S'),\n",
       " Row(Embarked='Q'),\n",
       " Row(Embarked='S'),\n",
       " Row(Embarked='C'),\n",
       " Row(Embarked='S'),\n",
       " Row(Embarked='S'),\n",
       " Row(Embarked='S'),\n",
       " Row(Embarked='S'),\n",
       " Row(Embarked='S'),\n",
       " Row(Embarked='S'),\n",
       " Row(Embarked='Q'),\n",
       " Row(Embarked='S'),\n",
       " Row(Embarked='C'),\n",
       " Row(Embarked='Q'),\n",
       " Row(Embarked='S'),\n",
       " Row(Embarked='S'),\n",
       " Row(Embarked='C'),\n",
       " Row(Embarked='S'),\n",
       " Row(Embarked='S'),\n",
       " Row(Embarked='S'),\n",
       " Row(Embarked='S'),\n",
       " Row(Embarked='C'),\n",
       " Row(Embarked='S'),\n",
       " Row(Embarked='S'),\n",
       " Row(Embarked='S'),\n",
       " Row(Embarked='S'),\n",
       " Row(Embarked='C'),\n",
       " Row(Embarked='S'),\n",
       " Row(Embarked='S'),\n",
       " Row(Embarked='S'),\n",
       " Row(Embarked='S'),\n",
       " Row(Embarked='S'),\n",
       " Row(Embarked='S'),\n",
       " Row(Embarked='S'),\n",
       " Row(Embarked='S'),\n",
       " Row(Embarked='S'),\n",
       " Row(Embarked='S'),\n",
       " Row(Embarked='S'),\n",
       " Row(Embarked='S'),\n",
       " Row(Embarked='S'),\n",
       " Row(Embarked='C'),\n",
       " Row(Embarked='S'),\n",
       " Row(Embarked='S'),\n",
       " Row(Embarked='S'),\n",
       " Row(Embarked='S'),\n",
       " Row(Embarked='S'),\n",
       " Row(Embarked='S'),\n",
       " Row(Embarked='S'),\n",
       " Row(Embarked='Q'),\n",
       " Row(Embarked='S'),\n",
       " Row(Embarked='C'),\n",
       " Row(Embarked='Q'),\n",
       " Row(Embarked=''),\n",
       " Row(Embarked='C'),\n",
       " Row(Embarked='S'),\n",
       " Row(Embarked='C'),\n",
       " Row(Embarked='S'),\n",
       " Row(Embarked='S'),\n",
       " Row(Embarked='C'),\n",
       " Row(Embarked='S'),\n",
       " Row(Embarked='S'),\n",
       " Row(Embarked='S'),\n",
       " Row(Embarked='C'),\n",
       " Row(Embarked='S'),\n",
       " Row(Embarked='S'),\n",
       " Row(Embarked='C'),\n",
       " Row(Embarked='C'),\n",
       " Row(Embarked='S'),\n",
       " Row(Embarked='S'),\n",
       " Row(Embarked='S'),\n",
       " Row(Embarked='C'),\n",
       " Row(Embarked='S'),\n",
       " Row(Embarked='C'),\n",
       " Row(Embarked='S'),\n",
       " Row(Embarked='S'),\n",
       " Row(Embarked='C'),\n",
       " Row(Embarked='S'),\n",
       " Row(Embarked='S'),\n",
       " Row(Embarked='S'),\n",
       " Row(Embarked='S'),\n",
       " Row(Embarked='S'),\n",
       " Row(Embarked='C'),\n",
       " Row(Embarked='C'),\n",
       " Row(Embarked='S'),\n",
       " Row(Embarked='S'),\n",
       " Row(Embarked='S'),\n",
       " Row(Embarked='S'),\n",
       " Row(Embarked='S'),\n",
       " Row(Embarked='S'),\n",
       " Row(Embarked='C'),\n",
       " Row(Embarked='S'),\n",
       " Row(Embarked='S'),\n",
       " Row(Embarked='S'),\n",
       " Row(Embarked='S'),\n",
       " Row(Embarked='S'),\n",
       " Row(Embarked='S'),\n",
       " Row(Embarked='S'),\n",
       " Row(Embarked='C'),\n",
       " Row(Embarked='C'),\n",
       " Row(Embarked='S'),\n",
       " Row(Embarked='S'),\n",
       " Row(Embarked='S'),\n",
       " Row(Embarked='C'),\n",
       " Row(Embarked='S'),\n",
       " Row(Embarked='S'),\n",
       " Row(Embarked='S'),\n",
       " Row(Embarked='S'),\n",
       " Row(Embarked='S'),\n",
       " Row(Embarked='Q'),\n",
       " Row(Embarked='S'),\n",
       " Row(Embarked='S'),\n",
       " Row(Embarked='S'),\n",
       " Row(Embarked='C'),\n",
       " Row(Embarked='Q')]"
      ]
     },
     "execution_count": 9,
     "metadata": {},
     "output_type": "execute_result"
    }
   ],
   "source": [
    "trainDF.select(['Embarked']).collect()"
   ]
  },
  {
   "cell_type": "code",
   "execution_count": 11,
   "metadata": {},
   "outputs": [
    {
     "name": "stdout",
     "output_type": "stream",
     "text": [
      "+--------+\n",
      "|Embarked|\n",
      "+--------+\n",
      "|       S|\n",
      "|       C|\n",
      "|       S|\n",
      "|       S|\n",
      "|       S|\n",
      "|       Q|\n",
      "|       S|\n",
      "|       S|\n",
      "|       S|\n",
      "|       C|\n",
      "|       S|\n",
      "|       S|\n",
      "|       S|\n",
      "|       S|\n",
      "|       S|\n",
      "|       S|\n",
      "|       Q|\n",
      "|       S|\n",
      "|       S|\n",
      "|       C|\n",
      "+--------+\n",
      "only showing top 20 rows\n",
      "\n"
     ]
    }
   ],
   "source": [
    "trainDF.select(['Embarked']).show()"
   ]
  },
  {
   "cell_type": "code",
   "execution_count": 12,
   "metadata": {
    "collapsed": true
   },
   "outputs": [],
   "source": [
    "trainDF = trainDF.withColumn('Mark', lit('train'))"
   ]
  },
  {
   "cell_type": "code",
   "execution_count": 13,
   "metadata": {},
   "outputs": [
    {
     "data": {
      "text/plain": [
       "['PassengerId',\n",
       " 'Survived',\n",
       " 'Pclass',\n",
       " 'Name',\n",
       " 'Sex',\n",
       " 'Age',\n",
       " 'SibSp',\n",
       " 'Parch',\n",
       " 'Ticket',\n",
       " 'Fare',\n",
       " 'Cabin',\n",
       " 'Embarked',\n",
       " 'Mark']"
      ]
     },
     "execution_count": 13,
     "metadata": {},
     "output_type": "execute_result"
    }
   ],
   "source": [
    "trainDF.columns"
   ]
  },
  {
   "cell_type": "code",
   "execution_count": 14,
   "metadata": {},
   "outputs": [
    {
     "name": "stdout",
     "output_type": "stream",
     "text": [
      "+-----+\n",
      "| Mark|\n",
      "+-----+\n",
      "|train|\n",
      "|train|\n",
      "|train|\n",
      "|train|\n",
      "|train|\n",
      "|train|\n",
      "|train|\n",
      "|train|\n",
      "|train|\n",
      "|train|\n",
      "|train|\n",
      "|train|\n",
      "|train|\n",
      "|train|\n",
      "|train|\n",
      "|train|\n",
      "|train|\n",
      "|train|\n",
      "|train|\n",
      "|train|\n",
      "+-----+\n",
      "only showing top 20 rows\n",
      "\n"
     ]
    }
   ],
   "source": [
    "trainDF.select(['Mark']).show()"
   ]
  },
  {
   "cell_type": "code",
   "execution_count": 15,
   "metadata": {},
   "outputs": [],
   "source": [
    "## Add Survived column to test, and dataset name as a column\n",
    "testDF = (testDF.withColumn('Survived',lit(0))\n",
    "                .withColumn('Mark', lit('test')))\n",
    "testDF = testDF[trainDF.columns]\n",
    "\n",
    "## Append Test data to Train data\n",
    "df = trainDF.unionAll(testDF)"
   ]
  },
  {
   "cell_type": "code",
   "execution_count": 29,
   "metadata": {
    "collapsed": true
   },
   "outputs": [],
   "source": [
    "df.createOrReplaceTempView(\"train\")"
   ]
  },
  {
   "cell_type": "markdown",
   "metadata": {},
   "source": [
    "# Steps in a Machine Learning Workflow"
   ]
  },
  {
   "cell_type": "markdown",
   "metadata": {},
   "source": [
    "* Data Collection\n",
    "* Data Preprocessing\n",
    "* Feature Engineering\n",
    "* Data format translation\n",
    "* Modeling\n",
    "* Evaluation and Selection"
   ]
  },
  {
   "cell_type": "markdown",
   "metadata": {},
   "source": [
    "## Data Collection"
   ]
  },
  {
   "cell_type": "markdown",
   "metadata": {},
   "source": [
    "* Combiniing Datasets"
   ]
  },
  {
   "cell_type": "markdown",
   "metadata": {},
   "source": [
    "## Data Preprocessing"
   ]
  },
  {
   "cell_type": "markdown",
   "metadata": {},
   "source": [
    "### Exploratory Data Analysis"
   ]
  },
  {
   "cell_type": "markdown",
   "metadata": {},
   "source": [
    "* Statistical Summary\n",
    "* Histograms\n",
    "* Correlations"
   ]
  },
  {
   "cell_type": "markdown",
   "metadata": {},
   "source": [
    "#### What is the schema?"
   ]
  },
  {
   "cell_type": "code",
   "execution_count": null,
   "metadata": {},
   "outputs": [],
   "source": [
    "df.columns"
   ]
  },
  {
   "cell_type": "code",
   "execution_count": null,
   "metadata": {},
   "outputs": [],
   "source": [
    "df.printSchema()"
   ]
  },
  {
   "cell_type": "markdown",
   "metadata": {},
   "source": [
    "#### Which ones are numeric?"
   ]
  },
  {
   "cell_type": "code",
   "execution_count": null,
   "metadata": {},
   "outputs": [],
   "source": [
    "df.show(5)"
   ]
  },
  {
   "cell_type": "markdown",
   "metadata": {},
   "source": [
    "Here are the variables which should be numeric (float or integer):\n",
    "\n",
    "* PassengerId: Integer\n",
    "* Pclass: Integer\n",
    "* SibSp: Integer\n",
    "* Parch: Integer\n",
    "* Survived: Integer\n",
    "* Age: Float\n",
    "* Fare: Float"
   ]
  },
  {
   "cell_type": "code",
   "execution_count": 16,
   "metadata": {},
   "outputs": [],
   "source": [
    "# Here is an example\n",
    "df = df.withColumn(\"AgeTmp\", df[\"Age\"].cast(\"float\")) \\\n",
    "    .drop(\"Age\") \\\n",
    "    .withColumnRenamed(\"AgeTmp\", \"Age\")"
   ]
  },
  {
   "cell_type": "code",
   "execution_count": 17,
   "metadata": {},
   "outputs": [],
   "source": [
    "# Let's define function\n",
    "def to_anytype(df, colnames, typename):\n",
    "    for colname in colnames:\n",
    "        df = df.withColumn(\"tmp\", df[colname].cast(typename)) \\\n",
    "        .drop(colname) \\\n",
    "        .withColumnRenamed(\"tmp\", colname)\n",
    "    return(df)"
   ]
  },
  {
   "cell_type": "code",
   "execution_count": 18,
   "metadata": {},
   "outputs": [],
   "source": [
    "intCols = ['PassengerId', 'Pclass', 'SibSp', 'Parch', 'Survived']\n",
    "floatCols = ['Age', 'Fare']\n",
    "\n",
    "df = to_anytype(df, intCols, \"integer\")\n",
    "df = to_anytype(df, floatCols, \"float\")"
   ]
  },
  {
   "cell_type": "code",
   "execution_count": 19,
   "metadata": {},
   "outputs": [
    {
     "name": "stdout",
     "output_type": "stream",
     "text": [
      "root\n",
      " |-- Name: string (nullable = true)\n",
      " |-- Sex: string (nullable = true)\n",
      " |-- Ticket: string (nullable = true)\n",
      " |-- Cabin: string (nullable = true)\n",
      " |-- Embarked: string (nullable = true)\n",
      " |-- Mark: string (nullable = false)\n",
      " |-- PassengerId: integer (nullable = true)\n",
      " |-- Pclass: integer (nullable = true)\n",
      " |-- SibSp: integer (nullable = true)\n",
      " |-- Parch: integer (nullable = true)\n",
      " |-- Survived: integer (nullable = true)\n",
      " |-- Age: float (nullable = true)\n",
      " |-- Fare: float (nullable = true)\n",
      "\n"
     ]
    }
   ],
   "source": [
    "df.printSchema()"
   ]
  },
  {
   "cell_type": "markdown",
   "metadata": {},
   "source": [
    "#### Let's inspect data"
   ]
  },
  {
   "cell_type": "code",
   "execution_count": 20,
   "metadata": {},
   "outputs": [
    {
     "data": {
      "text/plain": [
       "[Row(Name='Braund, Mr. Owen Harris', Sex='male', Ticket='A/5 21171', Cabin='', Embarked='S', Mark='train', PassengerId=1, Pclass=3, SibSp=1, Parch=0, Survived=0, Age=22.0, Fare=7.25),\n",
       " Row(Name='Cumings, Mrs. John Bradley (Florence Briggs Thayer)', Sex='female', Ticket='PC 17599', Cabin='C85', Embarked='C', Mark='train', PassengerId=2, Pclass=1, SibSp=1, Parch=0, Survived=1, Age=38.0, Fare=71.2833023071289),\n",
       " Row(Name='Heikkinen, Miss. Laina', Sex='female', Ticket='STON/O2. 3101282', Cabin='', Embarked='S', Mark='train', PassengerId=3, Pclass=3, SibSp=0, Parch=0, Survived=1, Age=26.0, Fare=7.925000190734863),\n",
       " Row(Name='Futrelle, Mrs. Jacques Heath (Lily May Peel)', Sex='female', Ticket='113803', Cabin='C123', Embarked='S', Mark='train', PassengerId=4, Pclass=1, SibSp=1, Parch=0, Survived=1, Age=35.0, Fare=53.099998474121094),\n",
       " Row(Name='Allen, Mr. William Henry', Sex='male', Ticket='373450', Cabin='', Embarked='S', Mark='train', PassengerId=5, Pclass=3, SibSp=0, Parch=0, Survived=0, Age=35.0, Fare=8.050000190734863)]"
      ]
     },
     "execution_count": 20,
     "metadata": {},
     "output_type": "execute_result"
    }
   ],
   "source": [
    "df.take(5)"
   ]
  },
  {
   "cell_type": "code",
   "execution_count": 21,
   "metadata": {},
   "outputs": [
    {
     "name": "stdout",
     "output_type": "stream",
     "text": [
      "+--------------------+------+----------------+-----+--------+-----+-----------+------+-----+-----+--------+----+-------+\n",
      "|                Name|   Sex|          Ticket|Cabin|Embarked| Mark|PassengerId|Pclass|SibSp|Parch|Survived| Age|   Fare|\n",
      "+--------------------+------+----------------+-----+--------+-----+-----------+------+-----+-----+--------+----+-------+\n",
      "|Braund, Mr. Owen ...|  male|       A/5 21171|     |       S|train|          1|     3|    1|    0|       0|22.0|   7.25|\n",
      "|Cumings, Mrs. Joh...|female|        PC 17599|  C85|       C|train|          2|     1|    1|    0|       1|38.0|71.2833|\n",
      "|Heikkinen, Miss. ...|female|STON/O2. 3101282|     |       S|train|          3|     3|    0|    0|       1|26.0|  7.925|\n",
      "|Futrelle, Mrs. Ja...|female|          113803| C123|       S|train|          4|     1|    1|    0|       1|35.0|   53.1|\n",
      "|Allen, Mr. Willia...|  male|          373450|     |       S|train|          5|     3|    0|    0|       0|35.0|   8.05|\n",
      "+--------------------+------+----------------+-----+--------+-----+-----------+------+-----+-----+--------+----+-------+\n",
      "only showing top 5 rows\n",
      "\n"
     ]
    }
   ],
   "source": [
    "df.show(5)"
   ]
  },
  {
   "cell_type": "markdown",
   "metadata": {},
   "source": [
    "#### Statistical Summary"
   ]
  },
  {
   "cell_type": "code",
   "execution_count": 22,
   "metadata": {},
   "outputs": [
    {
     "name": "stdout",
     "output_type": "stream",
     "text": [
      "+-------+------------------+\n",
      "|summary|               Age|\n",
      "+-------+------------------+\n",
      "|  count|              1046|\n",
      "|   mean|29.881137667305726|\n",
      "| stddev|14.413493211267733|\n",
      "|    min|              0.17|\n",
      "|    max|              80.0|\n",
      "+-------+------------------+\n",
      "\n"
     ]
    }
   ],
   "source": [
    "df.describe('Age').show()"
   ]
  },
  {
   "cell_type": "code",
   "execution_count": 23,
   "metadata": {},
   "outputs": [
    {
     "name": "stdout",
     "output_type": "stream",
     "text": [
      "+-------+------------------+--------------------+\n",
      "|summary|               Age|                Name|\n",
      "+-------+------------------+--------------------+\n",
      "|  count|              1046|                1309|\n",
      "|   mean|29.881137667305726|                null|\n",
      "| stddev|14.413493211267733|                null|\n",
      "|    min|              0.17|\"Andersson, Mr. A...|\n",
      "|    max|              80.0|van Melkebeke, Mr...|\n",
      "+-------+------------------+--------------------+\n",
      "\n"
     ]
    }
   ],
   "source": [
    "df.describe(['Age', 'Name']).show()"
   ]
  },
  {
   "cell_type": "code",
   "execution_count": 24,
   "metadata": {},
   "outputs": [
    {
     "name": "stdout",
     "output_type": "stream",
     "text": [
      "+-------+-----------------+-------------------+------------------+--------------------+------+------------------+------------------+------------------+------------------+-----------------+-----+--------+-----+\n",
      "|summary|      PassengerId|           Survived|            Pclass|                Name|   Sex|               Age|             SibSp|             Parch|            Ticket|             Fare|Cabin|Embarked| Mark|\n",
      "+-------+-----------------+-------------------+------------------+--------------------+------+------------------+------------------+------------------+------------------+-----------------+-----+--------+-----+\n",
      "|  count|             1309|               1309|              1309|                1309|  1309|              1046|              1309|              1309|              1309|             1308| 1309|    1309| 1309|\n",
      "|   mean|            655.0| 0.2612681436210848| 2.294881588999236|                null|  null|29.881137667305726|0.4988540870893812|0.3850267379679144| 249039.1368861024|33.29547938203228| null|    null| null|\n",
      "| stddev|378.0200611960517|0.43949364010802755|0.8378360189701275|                null|  null|14.413493211267733|1.0416583905961019|0.8655602753495152|442685.31767656433|51.75866881037215| null|    null| null|\n",
      "|    min|                1|                  0|                 1|\"Andersson, Mr. A...|female|              0.17|                 0|                 0|            110152|              0.0|     |        | test|\n",
      "|    max|             1309|                  1|                 3|van Melkebeke, Mr...|  male|              80.0|                 8|                 9|         WE/P 5735|         512.3292|    T|       S|train|\n",
      "+-------+-----------------+-------------------+------------------+--------------------+------+------------------+------------------+------------------+------------------+-----------------+-----+--------+-----+\n",
      "\n"
     ]
    }
   ],
   "source": [
    "df.describe(trainDF.columns).show()"
   ]
  },
  {
   "cell_type": "code",
   "execution_count": 25,
   "metadata": {},
   "outputs": [
    {
     "name": "stdout",
     "output_type": "stream",
     "text": [
      "+-------+-------------------+------------------+--------------------+\n",
      "|summary|           Survived|            Pclass|                Name|\n",
      "+-------+-------------------+------------------+--------------------+\n",
      "|  count|               1309|              1309|                1309|\n",
      "|   mean| 0.2612681436210848| 2.294881588999236|                null|\n",
      "| stddev|0.43949364010802755|0.8378360189701275|                null|\n",
      "|    min|                  0|                 1|\"Andersson, Mr. A...|\n",
      "|    max|                  1|                 3|van Melkebeke, Mr...|\n",
      "+-------+-------------------+------------------+--------------------+\n",
      "\n"
     ]
    }
   ],
   "source": [
    "df.describe(trainDF.columns[1:4]).show()"
   ]
  },
  {
   "cell_type": "code",
   "execution_count": 26,
   "metadata": {},
   "outputs": [
    {
     "name": "stdout",
     "output_type": "stream",
     "text": [
      "+-------+------------------+------------------+------------------+\n",
      "|summary|               Age|             SibSp|             Parch|\n",
      "+-------+------------------+------------------+------------------+\n",
      "|  count|              1046|              1309|              1309|\n",
      "|   mean|29.881137667305726|0.4988540870893812|0.3850267379679144|\n",
      "| stddev|14.413493211267733|1.0416583905961019|0.8655602753495152|\n",
      "|    min|              0.17|                 0|                 0|\n",
      "|    max|              80.0|                 8|                 9|\n",
      "+-------+------------------+------------------+------------------+\n",
      "\n"
     ]
    }
   ],
   "source": [
    "df.describe(trainDF.columns[5:8]).show()"
   ]
  },
  {
   "cell_type": "code",
   "execution_count": 27,
   "metadata": {},
   "outputs": [
    {
     "name": "stdout",
     "output_type": "stream",
     "text": [
      "+-------+-----------------+-----+--------+\n",
      "|summary|             Fare|Cabin|Embarked|\n",
      "+-------+-----------------+-----+--------+\n",
      "|  count|             1308| 1309|    1309|\n",
      "|   mean|33.29547938203228| null|    null|\n",
      "| stddev|51.75866881037215| null|    null|\n",
      "|    min|              0.0|     |        |\n",
      "|    max|         512.3292|    T|       S|\n",
      "+-------+-----------------+-----+--------+\n",
      "\n"
     ]
    }
   ],
   "source": [
    "df.describe(trainDF.columns[9:12]).show()"
   ]
  },
  {
   "cell_type": "markdown",
   "metadata": {},
   "source": [
    "#### Histograms"
   ]
  },
  {
   "cell_type": "markdown",
   "metadata": {},
   "source": [
    "* We need the frequency count of various levels"
   ]
  },
  {
   "cell_type": "code",
   "execution_count": 30,
   "metadata": {},
   "outputs": [
    {
     "name": "stdout",
     "output_type": "stream",
     "text": [
      "+----+-----+\n",
      "| age|count|\n",
      "+----+-----+\n",
      "|null|  263|\n",
      "|0.17|    1|\n",
      "|0.33|    1|\n",
      "|0.42|    1|\n",
      "|0.67|    1|\n",
      "|0.75|    3|\n",
      "|0.83|    3|\n",
      "|0.92|    2|\n",
      "| 1.0|   10|\n",
      "| 2.0|   12|\n",
      "| 3.0|    7|\n",
      "| 4.0|   10|\n",
      "| 5.0|    5|\n",
      "| 6.0|    6|\n",
      "| 7.0|    4|\n",
      "| 8.0|    6|\n",
      "| 9.0|   10|\n",
      "|10.0|    4|\n",
      "|11.0|    4|\n",
      "|11.5|    1|\n",
      "|12.0|    3|\n",
      "|13.0|    5|\n",
      "|14.0|    8|\n",
      "|14.5|    2|\n",
      "|15.0|    6|\n",
      "|16.0|   19|\n",
      "|17.0|   20|\n",
      "|18.0|   39|\n",
      "|18.5|    3|\n",
      "|19.0|   29|\n",
      "|20.0|   23|\n",
      "|20.5|    1|\n",
      "|21.0|   41|\n",
      "|22.0|   43|\n",
      "|22.5|    1|\n",
      "|23.0|   26|\n",
      "|23.5|    1|\n",
      "|24.0|   47|\n",
      "|24.5|    1|\n",
      "|25.0|   34|\n",
      "|26.0|   30|\n",
      "|26.5|    1|\n",
      "|27.0|   30|\n",
      "|28.0|   32|\n",
      "|28.5|    3|\n",
      "|29.0|   30|\n",
      "|30.0|   40|\n",
      "|30.5|    2|\n",
      "|31.0|   23|\n",
      "|32.0|   24|\n",
      "|32.5|    4|\n",
      "|33.0|   21|\n",
      "|34.0|   16|\n",
      "|34.5|    2|\n",
      "|35.0|   23|\n",
      "|36.0|   31|\n",
      "|36.5|    2|\n",
      "|37.0|    9|\n",
      "|38.0|   14|\n",
      "|38.5|    1|\n",
      "|39.0|   20|\n",
      "|40.0|   18|\n",
      "|40.5|    3|\n",
      "|41.0|   11|\n",
      "|42.0|   18|\n",
      "|43.0|    9|\n",
      "|44.0|   10|\n",
      "|45.0|   21|\n",
      "|45.5|    2|\n",
      "|46.0|    6|\n",
      "|47.0|   14|\n",
      "|48.0|   14|\n",
      "|49.0|    9|\n",
      "|50.0|   15|\n",
      "|51.0|    8|\n",
      "|52.0|    6|\n",
      "|53.0|    4|\n",
      "|54.0|   10|\n",
      "|55.0|    8|\n",
      "|55.5|    1|\n",
      "|56.0|    4|\n",
      "|57.0|    5|\n",
      "|58.0|    6|\n",
      "|59.0|    3|\n",
      "|60.0|    7|\n",
      "|60.5|    1|\n",
      "|61.0|    5|\n",
      "|62.0|    5|\n",
      "|63.0|    4|\n",
      "|64.0|    5|\n",
      "|65.0|    3|\n",
      "|66.0|    1|\n",
      "|67.0|    1|\n",
      "|70.0|    2|\n",
      "|70.5|    1|\n",
      "|71.0|    2|\n",
      "|74.0|    1|\n",
      "|76.0|    1|\n",
      "|80.0|    1|\n",
      "+----+-----+\n",
      "\n"
     ]
    }
   ],
   "source": [
    "age_hist = spark.sql(\n",
    "    \"SELECT Age AS age, \\\n",
    "            count(*) AS count \\\n",
    "    FROM train \\\n",
    "    GROUP BY Age \\\n",
    "    ORDER BY Age\")\n",
    "age_hist.show(n=age_hist.count())"
   ]
  },
  {
   "cell_type": "code",
   "execution_count": 31,
   "metadata": {},
   "outputs": [
    {
     "name": "stdout",
     "output_type": "stream",
     "text": [
      "+------------+-----------+-----+\n",
      "|bucket_floor|bucket_name|count|\n",
      "+------------+-----------+-----+\n",
      "|        null|       null|  263|\n",
      "|           0|     0 to 5|   51|\n",
      "|           5|    5 to 10|   31|\n",
      "|          10|   10 to 15|   27|\n",
      "|          15|   15 to 20|  116|\n",
      "|          20|   20 to 25|  184|\n",
      "|          25|   25 to 30|  160|\n",
      "|          30|   30 to 35|  132|\n",
      "|          35|   35 to 40|  100|\n",
      "|          40|   40 to 45|   69|\n",
      "|          45|   45 to 50|   66|\n",
      "|          50|   50 to 55|   43|\n",
      "|          55|   55 to 60|   27|\n",
      "|          60|   60 to 65|   27|\n",
      "|          65|   65 to 70|    5|\n",
      "|          70|   70 to 75|    6|\n",
      "|          75|   75 to 80|    1|\n",
      "|          80|   80 to 85|    1|\n",
      "+------------+-----------+-----+\n",
      "\n"
     ]
    }
   ],
   "source": [
    "age_hist = spark.sql(\n",
    "    \"SELECT bucket_floor, \\\n",
    "        CONCAT(bucket_floor, ' to ', bucket_ceiling) as bucket_name, \\\n",
    "        count(*) as count \\\n",
    "     FROM ( \\\n",
    "        SELECT floor(Age/5.00)*5 as bucket_floor, \\\n",
    "            floor(Age/5.00)*5 + 5 as bucket_ceiling \\\n",
    "        FROM train \\\n",
    "     ) a \\\n",
    "     GROUP BY 1, 2 \\\n",
    "     ORDER BY 1\")\n",
    "\n",
    "age_hist.show(n=age_hist.count())\n"
   ]
  },
  {
   "cell_type": "code",
   "execution_count": 32,
   "metadata": {
    "collapsed": true
   },
   "outputs": [],
   "source": [
    "def get_column(df, colname):\n",
    "    coldata = df.rdd.map(lambda r: r[colname]).collect()\n",
    "    coldata = ['None' if v is None else v for v in coldata] #replace None values\n",
    "    return(coldata)\n",
    "\n",
    "age = get_column(age_hist, \"bucket_name\")\n",
    "count = get_column(age_hist, \"count\")"
   ]
  },
  {
   "cell_type": "code",
   "execution_count": 33,
   "metadata": {},
   "outputs": [
    {
     "data": {
      "image/png": "[encoded data removed]",
      "text/plain": [
       "<matplotlib.figure.Figure at 0x115852470>"
      ]
     },
     "metadata": {},
     "output_type": "display_data"
    }
   ],
   "source": [
    "%matplotlib inline\n",
    "\n",
    "barplt = sns.barplot(age, count)"
   ]
  },
  {
   "cell_type": "code",
   "execution_count": 34,
   "metadata": {},
   "outputs": [
    {
     "data": {
      "image/png": "[encoded data removed]",
      "text/plain": [
       "<matplotlib.figure.Figure at 0x114a163c8>"
      ]
     },
     "metadata": {},
     "output_type": "display_data"
    }
   ],
   "source": [
    "%matplotlib inline\n",
    "\n",
    "barplt = sns.barplot(age, count)\n",
    "for item in barplt.get_xticklabels():\n",
    "    item.set_rotation(45)"
   ]
  },
  {
   "cell_type": "markdown",
   "metadata": {},
   "source": [
    "#### Histogram Function"
   ]
  },
  {
   "cell_type": "code",
   "execution_count": 35,
   "metadata": {},
   "outputs": [],
   "source": [
    "def get_column(df, colname):\n",
    "    coldata = df.rdd.map(lambda r: r[colname]).collect()\n",
    "    coldata = ['None' if v is None else v for v in coldata] #replace None values\n",
    "    return(coldata)\n",
    "\n",
    "def histplot(dfname, colname, binsize):\n",
    "    binsize = str(binsize)\n",
    "    dfname.createOrReplaceTempView(\"tmpDF\")\n",
    "    hist_query = \"SELECT bucket_floor, \\\n",
    "        CONCAT(bucket_floor, ' to ', bucket_ceiling) as bucket_name, \\\n",
    "        count(*) as count \\\n",
    "     FROM ( \\\n",
    "        SELECT floor(\" + colname + \"/\" + binsize + \")*\" + binsize + \" as bucket_floor, \\\n",
    "            floor(\" + colname + \"/\" + binsize + \")*\" + binsize + \" + \" + binsize + \" as bucket_ceiling \\\n",
    "        FROM tmpDF \\\n",
    "     ) a \\\n",
    "     GROUP BY 1, 2 \\\n",
    "     ORDER BY 1\"\n",
    "    hist_data = spark.sql(hist_query)\n",
    "    xvar = get_column(hist_data, \"bucket_name\")\n",
    "    count = get_column(hist_data, \"count\")\n",
    "    barplt = sns.barplot(xvar, count)\n",
    "    for item in barplt.get_xticklabels():\n",
    "        item.set_rotation(45)\n",
    "    return(barplt)"
   ]
  },
  {
   "cell_type": "code",
   "execution_count": 36,
   "metadata": {},
   "outputs": [
    {
     "data": {
      "text/plain": [
       "<matplotlib.axes._subplots.AxesSubplot at 0x1184dccc0>"
      ]
     },
     "execution_count": 36,
     "metadata": {},
     "output_type": "execute_result"
    },
    {
     "data": {
      "image/png": "[encoded data removed]",
      "text/plain": [
       "<matplotlib.figure.Figure at 0x1184c1a20>"
      ]
     },
     "metadata": {},
     "output_type": "display_data"
    }
   ],
   "source": [
    "histplot(df, \"Age\", 5)"
   ]
  },
  {
   "cell_type": "code",
   "execution_count": 37,
   "metadata": {},
   "outputs": [
    {
     "data": {
      "text/plain": [
       "<matplotlib.axes._subplots.AxesSubplot at 0x11876bc50>"
      ]
     },
     "execution_count": 37,
     "metadata": {},
     "output_type": "execute_result"
    },
    {
     "data": {
      "image/png": "[encoded data removed]",
      "text/plain": [
       "<matplotlib.figure.Figure at 0x11878d400>"
      ]
     },
     "metadata": {},
     "output_type": "display_data"
    }
   ],
   "source": [
    "histplot(df, \"Age\", 10)"
   ]
  },
  {
   "cell_type": "markdown",
   "metadata": {},
   "source": [
    "#### All Histograms"
   ]
  },
  {
   "cell_type": "markdown",
   "metadata": {},
   "source": [
    "* Play with various binsizes"
   ]
  },
  {
   "cell_type": "code",
   "execution_count": null,
   "metadata": {},
   "outputs": [],
   "source": [
    "df.printSchema()"
   ]
  },
  {
   "cell_type": "code",
   "execution_count": null,
   "metadata": {},
   "outputs": [],
   "source": [
    "histplot(df, \"Age\", 5)"
   ]
  },
  {
   "cell_type": "code",
   "execution_count": null,
   "metadata": {},
   "outputs": [],
   "source": [
    "histplot(df, \"Survived\", 5)"
   ]
  },
  {
   "cell_type": "code",
   "execution_count": null,
   "metadata": {},
   "outputs": [],
   "source": [
    "histplot(df, \"Survived\", 1)"
   ]
  },
  {
   "cell_type": "code",
   "execution_count": null,
   "metadata": {},
   "outputs": [],
   "source": [
    "histplot(df, \"Pclass\", 1)"
   ]
  },
  {
   "cell_type": "code",
   "execution_count": null,
   "metadata": {},
   "outputs": [],
   "source": [
    "histplot(df, \"SibSp\", 1)"
   ]
  },
  {
   "cell_type": "code",
   "execution_count": null,
   "metadata": {},
   "outputs": [],
   "source": [
    "histplot(df, \"Parch\", 1)"
   ]
  },
  {
   "cell_type": "code",
   "execution_count": null,
   "metadata": {},
   "outputs": [],
   "source": [
    "histplot(df, \"Age\", 5)"
   ]
  },
  {
   "cell_type": "code",
   "execution_count": null,
   "metadata": {},
   "outputs": [],
   "source": [
    "histplot(df, \"Fare\", 5)"
   ]
  },
  {
   "cell_type": "code",
   "execution_count": null,
   "metadata": {},
   "outputs": [],
   "source": [
    "histplot(df, \"Fare\", 10)"
   ]
  },
  {
   "cell_type": "markdown",
   "metadata": {},
   "source": [
    "Let's test with a categorical variable."
   ]
  },
  {
   "cell_type": "code",
   "execution_count": null,
   "metadata": {},
   "outputs": [],
   "source": [
    "histplot(trainDF, \"Embarked\", 1)"
   ]
  },
  {
   "cell_type": "code",
   "execution_count": null,
   "metadata": {
    "collapsed": true
   },
   "outputs": [],
   "source": [
    "def histplot_s(df, colname):\n",
    "    xvar = get_column(df, colname)\n",
    "    counter = collections.Counter(xvar)\n",
    "    barplt = sns.barplot(list(counter.keys()), list(counter.values()))\n",
    "    for item in barplt.get_xticklabels():\n",
    "        item.set_rotation(45)\n",
    "    return(barplt)"
   ]
  },
  {
   "cell_type": "code",
   "execution_count": null,
   "metadata": {},
   "outputs": [],
   "source": [
    "histplot_s(df, \"Sex\")"
   ]
  },
  {
   "cell_type": "code",
   "execution_count": null,
   "metadata": {},
   "outputs": [],
   "source": [
    "histplot_s(df, \"Embarked\")"
   ]
  },
  {
   "cell_type": "markdown",
   "metadata": {},
   "source": [
    "#### Correlations"
   ]
  },
  {
   "cell_type": "code",
   "execution_count": 38,
   "metadata": {},
   "outputs": [
    {
     "data": {
      "text/plain": [
       "0.21349686667435705"
      ]
     },
     "execution_count": 38,
     "metadata": {},
     "output_type": "execute_result"
    }
   ],
   "source": [
    "df.corr(\"Age\", \"Fare\")"
   ]
  },
  {
   "cell_type": "code",
   "execution_count": 39,
   "metadata": {},
   "outputs": [
    {
     "data": {
      "text/plain": [
       "0.005296468730662053"
      ]
     },
     "execution_count": 39,
     "metadata": {},
     "output_type": "execute_result"
    }
   ],
   "source": [
    "df.corr(\"Age\", \"Survived\")"
   ]
  },
  {
   "cell_type": "code",
   "execution_count": 40,
   "metadata": {},
   "outputs": [
    {
     "data": {
      "text/plain": [
       "0.1738945206553876"
      ]
     },
     "execution_count": 40,
     "metadata": {},
     "output_type": "execute_result"
    }
   ],
   "source": [
    "df.corr(\"Fare\", \"Survived\")"
   ]
  },
  {
   "cell_type": "markdown",
   "metadata": {},
   "source": [
    "Currently, only *pearson* is supported."
   ]
  },
  {
   "cell_type": "markdown",
   "metadata": {},
   "source": [
    "### Missing Value Imputation"
   ]
  },
  {
   "cell_type": "code",
   "execution_count": 41,
   "metadata": {},
   "outputs": [],
   "source": [
    "numVars = ['Survived','Age','SibSp','Parch','Fare']\n",
    "stringVars = ['Cabin', 'Embarked', 'Pclass', 'Sex']\n",
    "\n",
    "def countNull(df,var):\n",
    "    return df.where(df[var].isNull()).count()\n",
    "\n",
    "def countEmptyString(df,var):\n",
    "    return df[df[var].isin(\"\")].count()\n",
    "\n",
    "def countZero(df,var):\n",
    "    return df[df[var].isin(0)].count()"
   ]
  },
  {
   "cell_type": "code",
   "execution_count": 42,
   "metadata": {},
   "outputs": [
    {
     "data": {
      "text/plain": [
       "{'Age': 263,\n",
       " 'Cabin': 0,\n",
       " 'Embarked': 0,\n",
       " 'Fare': 1,\n",
       " 'Mark': 0,\n",
       " 'Name': 0,\n",
       " 'Parch': 0,\n",
       " 'PassengerId': 0,\n",
       " 'Pclass': 0,\n",
       " 'Sex': 0,\n",
       " 'SibSp': 0,\n",
       " 'Survived': 0,\n",
       " 'Ticket': 0}"
      ]
     },
     "execution_count": 42,
     "metadata": {},
     "output_type": "execute_result"
    }
   ],
   "source": [
    "missing = {var: countNull(df,var) for var in df.columns}\n",
    "missing"
   ]
  },
  {
   "cell_type": "code",
   "execution_count": 43,
   "metadata": {},
   "outputs": [
    {
     "data": {
      "text/plain": [
       "{'Age': 0,\n",
       " 'Cabin': 1014,\n",
       " 'Embarked': 2,\n",
       " 'Fare': 0,\n",
       " 'Mark': 0,\n",
       " 'Name': 0,\n",
       " 'Parch': 0,\n",
       " 'PassengerId': 0,\n",
       " 'Pclass': 0,\n",
       " 'Sex': 0,\n",
       " 'SibSp': 0,\n",
       " 'Survived': 0,\n",
       " 'Ticket': 0}"
      ]
     },
     "execution_count": 43,
     "metadata": {},
     "output_type": "execute_result"
    }
   ],
   "source": [
    "missing = {var: countEmptyString(df, var) for var in df.columns}\n",
    "missing"
   ]
  },
  {
   "cell_type": "code",
   "execution_count": 44,
   "metadata": {},
   "outputs": [
    {
     "data": {
      "text/plain": [
       "{'Age': 0,\n",
       " 'Cabin': 0,\n",
       " 'Embarked': 0,\n",
       " 'Fare': 17,\n",
       " 'Mark': 0,\n",
       " 'Name': 0,\n",
       " 'Parch': 1002,\n",
       " 'PassengerId': 0,\n",
       " 'Pclass': 0,\n",
       " 'Sex': 0,\n",
       " 'SibSp': 891,\n",
       " 'Survived': 967,\n",
       " 'Ticket': 0}"
      ]
     },
     "execution_count": 44,
     "metadata": {},
     "output_type": "execute_result"
    }
   ],
   "source": [
    "missing = {var: countZero(df, var) for var in df.columns}\n",
    "missing"
   ]
  },
  {
   "cell_type": "code",
   "execution_count": 45,
   "metadata": {},
   "outputs": [
    {
     "data": {
      "text/plain": [
       "Row(avg(Age)=29.881137667305726)"
      ]
     },
     "execution_count": 45,
     "metadata": {},
     "output_type": "execute_result"
    }
   ],
   "source": [
    "age_mean = df.groupBy().mean('Age').first()\n",
    "age_mean"
   ]
  },
  {
   "cell_type": "code",
   "execution_count": 46,
   "metadata": {},
   "outputs": [
    {
     "data": {
      "text/plain": [
       "29.881137667305726"
      ]
     },
     "execution_count": 46,
     "metadata": {},
     "output_type": "execute_result"
    }
   ],
   "source": [
    "age_mean[0]"
   ]
  },
  {
   "cell_type": "code",
   "execution_count": 47,
   "metadata": {},
   "outputs": [
    {
     "data": {
      "text/plain": [
       "(29.881137667305726, 33.29547938203228)"
      ]
     },
     "execution_count": 47,
     "metadata": {},
     "output_type": "execute_result"
    }
   ],
   "source": [
    "age_mean = df.groupBy().mean('Age').first()[0]\n",
    "fare_mean = df.groupBy().mean('Fare').first()[0]\n",
    "age_mean, fare_mean"
   ]
  },
  {
   "cell_type": "code",
   "execution_count": 48,
   "metadata": {},
   "outputs": [],
   "source": [
    "df = df.na.fill({'Age':age_mean,'Fare':fare_mean})"
   ]
  },
  {
   "cell_type": "markdown",
   "metadata": {},
   "source": [
    "**What is wrong with what I just did?**"
   ]
  },
  {
   "cell_type": "markdown",
   "metadata": {},
   "source": [
    "### Outlier Treatment"
   ]
  },
  {
   "cell_type": "markdown",
   "metadata": {},
   "source": [
    "* Univariate\n",
    "    - Winsorization\n",
    "* Multivariate\n",
    "\n",
    "* Is it a good idea?\n",
    "* Know your data"
   ]
  },
  {
   "cell_type": "markdown",
   "metadata": {},
   "source": [
    "## Feature Engineering"
   ]
  },
  {
   "cell_type": "markdown",
   "metadata": {},
   "source": [
    "### Applying Domain Expertise"
   ]
  },
  {
   "cell_type": "code",
   "execution_count": 49,
   "metadata": {},
   "outputs": [
    {
     "name": "stdout",
     "output_type": "stream",
     "text": [
      "+--------------------+---------------+\n",
      "|                Name|          Title|\n",
      "+--------------------+---------------+\n",
      "|Braund, Mr. Owen ...|     Braund, Mr|\n",
      "|Cumings, Mrs. Joh...|   Cumings, Mrs|\n",
      "|Heikkinen, Miss. ...|Heikkinen, Miss|\n",
      "|Futrelle, Mrs. Ja...|  Futrelle, Mrs|\n",
      "|Allen, Mr. Willia...|      Allen, Mr|\n",
      "+--------------------+---------------+\n",
      "only showing top 5 rows\n",
      "\n"
     ]
    }
   ],
   "source": [
    "from pyspark.sql.functions import udf\n",
    "from pyspark.sql.types import StringType\n",
    " \n",
    "## create user defined function to extract title\n",
    "getTitle = udf(lambda name: name.split('.')[0].strip(), StringType())\n",
    "df = df.withColumn('Title', getTitle(df['Name']))\n",
    " \n",
    "df.select('Name','Title').show(5)"
   ]
  },
  {
   "cell_type": "code",
   "execution_count": 50,
   "metadata": {},
   "outputs": [
    {
     "name": "stdout",
     "output_type": "stream",
     "text": [
      "+--------------------+-----+\n",
      "|                Name|Title|\n",
      "+--------------------+-----+\n",
      "|Braund, Mr. Owen ...|   Mr|\n",
      "|Cumings, Mrs. Joh...|  Mrs|\n",
      "|Heikkinen, Miss. ...| Miss|\n",
      "|Futrelle, Mrs. Ja...|  Mrs|\n",
      "|Allen, Mr. Willia...|   Mr|\n",
      "+--------------------+-----+\n",
      "only showing top 5 rows\n",
      "\n"
     ]
    }
   ],
   "source": [
    "getTitle = udf(lambda name: name.split('.')[0].split(',')[1].strip(), StringType())\n",
    "df = df.withColumn('Title', getTitle(df['Name']))\n",
    " \n",
    "df.select('Name','Title').show(5)"
   ]
  },
  {
   "cell_type": "markdown",
   "metadata": {},
   "source": [
    "### Categorical Variable treatment"
   ]
  },
  {
   "cell_type": "markdown",
   "metadata": {},
   "source": [
    "**Some algorithms can handle categorical variables directly, some can't.**"
   ]
  },
  {
   "cell_type": "markdown",
   "metadata": {},
   "source": [
    "* Label Encoder\n",
    "    - It is used to transform non-numerical labels to numerical labels (or nominal categorical variables)\n",
    "    - Numerical labels are always between 0 and n_classes-1\n",
    "    - May introduce spurious relationship\n",
    "        * Age and City\n",
    "* One Hot Encoding\n",
    "    - Encodes categorical integer features using a one-hot aka one-of-K scheme\n",
    "    - Preferable"
   ]
  },
  {
   "cell_type": "markdown",
   "metadata": {},
   "source": [
    "#### Label Encoding (Indexing)"
   ]
  },
  {
   "cell_type": "code",
   "execution_count": 51,
   "metadata": {
    "collapsed": true
   },
   "outputs": [],
   "source": [
    "catVars = ['Pclass','Sex','Embarked','Title']\n",
    " \n",
    "## index Sex variable\n",
    "si = StringIndexer(inputCol = 'Sex', outputCol = 'Sex_indexed')\n",
    "df_indexed = si.fit(df).transform(df).drop('Sex').withColumnRenamed('Sex_indexed','Sex')"
   ]
  },
  {
   "cell_type": "code",
   "execution_count": 52,
   "metadata": {},
   "outputs": [
    {
     "name": "stdout",
     "output_type": "stream",
     "text": [
      "+--------------------+----------------+-----+--------+-----+-----------+------+-----+-----+--------+----+-------+-----+---+\n",
      "|                Name|          Ticket|Cabin|Embarked| Mark|PassengerId|Pclass|SibSp|Parch|Survived| Age|   Fare|Title|Sex|\n",
      "+--------------------+----------------+-----+--------+-----+-----------+------+-----+-----+--------+----+-------+-----+---+\n",
      "|Braund, Mr. Owen ...|       A/5 21171|     |       S|train|          1|     3|    1|    0|       0|22.0|   7.25|   Mr|0.0|\n",
      "|Cumings, Mrs. Joh...|        PC 17599|  C85|       C|train|          2|     1|    1|    0|       1|38.0|71.2833|  Mrs|1.0|\n",
      "|Heikkinen, Miss. ...|STON/O2. 3101282|     |       S|train|          3|     3|    0|    0|       1|26.0|  7.925| Miss|1.0|\n",
      "|Futrelle, Mrs. Ja...|          113803| C123|       S|train|          4|     1|    1|    0|       1|35.0|   53.1|  Mrs|1.0|\n",
      "|Allen, Mr. Willia...|          373450|     |       S|train|          5|     3|    0|    0|       0|35.0|   8.05|   Mr|0.0|\n",
      "+--------------------+----------------+-----+--------+-----+-----------+------+-----+-----+--------+----+-------+-----+---+\n",
      "only showing top 5 rows\n",
      "\n"
     ]
    }
   ],
   "source": [
    "df_indexed.show(5)"
   ]
  },
  {
   "cell_type": "code",
   "execution_count": 53,
   "metadata": {
    "collapsed": true
   },
   "outputs": [],
   "source": [
    "# make use of pipeline to index all categorical variables\n",
    "def indexer(df, col):\n",
    "    si = StringIndexer(inputCol = col, outputCol = col+'_indexed').fit(df)\n",
    "    return si\n",
    " \n",
    "indexers = [indexer(df, col) for col in catVars]"
   ]
  },
  {
   "cell_type": "code",
   "execution_count": 54,
   "metadata": {},
   "outputs": [
    {
     "name": "stdout",
     "output_type": "stream",
     "text": [
      "+--------+----------------+\n",
      "|Embarked|Embarked_indexed|\n",
      "+--------+----------------+\n",
      "|       S|             0.0|\n",
      "|       C|             1.0|\n",
      "|       S|             0.0|\n",
      "+--------+----------------+\n",
      "only showing top 3 rows\n",
      "\n"
     ]
    }
   ],
   "source": [
    "pipeline = Pipeline(stages = indexers)\n",
    "df_indexed = pipeline.fit(df).transform(df)\n",
    " \n",
    "df_indexed.select('Embarked','Embarked_indexed').show(3)"
   ]
  },
  {
   "cell_type": "markdown",
   "metadata": {},
   "source": [
    "* The categorical features are indexed in resulting data\n",
    "* Embarked is mapped S=>0, C=>1, Q=>2"
   ]
  },
  {
   "cell_type": "markdown",
   "metadata": {},
   "source": [
    "#### StringIndexer\n",
    "\n",
    "* Maps a string column of labels to a column of label indices\n",
    "* If the input column is numeric, we cast it to string and index the string values\n",
    "* The indices are in [0, numLabels), ordered by label frequencies\n",
    "    - So the most frequent label gets index 0."
   ]
  },
  {
   "cell_type": "markdown",
   "metadata": {},
   "source": [
    "#### Transformer\n",
    "\n",
    "* transform one dataset into another"
   ]
  },
  {
   "cell_type": "markdown",
   "metadata": {},
   "source": [
    "#### Estimator\n",
    "\n",
    "* fit models to data"
   ]
  },
  {
   "cell_type": "markdown",
   "metadata": {},
   "source": [
    "#### Pipelines\n",
    "\n",
    " \n",
    "* A Pipeline consists of a sequence of stages, each of which is either an Estimator or a Transformer\n",
    "* When Pipeline.fit() is called, the stages are executed in order\n",
    "    - If a stage is an Estimator, its Estimator.fit() method will be called on the input dataset to fit a model\n",
    "        * Then the model, which is a transformer, will be used to transform the dataset as the input to the next stage\n",
    "    - If a stage is a Transformer, its Transformer.transform() method will be called to produce the dataset for the next stage\n",
    "* The fitted model from a Pipeline is a PipelineModel, which consists of fitted models and transformers, corresponding to the pipeline stages\n",
    "* If there are no stages, the pipeline acts as an identity transformer."
   ]
  },
  {
   "cell_type": "markdown",
   "metadata": {},
   "source": [
    "### Timeseries Variable treatments"
   ]
  },
  {
   "cell_type": "markdown",
   "metadata": {},
   "source": [
    "* Shattering\n",
    "* No time/day variables here"
   ]
  },
  {
   "cell_type": "markdown",
   "metadata": {},
   "source": [
    "## Data format translation"
   ]
  },
  {
   "cell_type": "markdown",
   "metadata": {},
   "source": [
    "* In this step, we get the data in the format or data type expected by the algorithms\n",
    "* In the case of Spark MLlib, this includes \n",
    "    - local vector\n",
    "    - dense or sparse vectors\n",
    "    - labeled points\n",
    "    - local matrix\n",
    "    - distributed matrix with row matrix\n",
    "    - indexed row matrix\n",
    "    - coordinate matrix\n",
    "    - block matrix"
   ]
  },
  {
   "cell_type": "markdown",
   "metadata": {},
   "source": [
    "In our case, we need convert features to Vectors (either SparseVector or DenseVector)."
   ]
  },
  {
   "cell_type": "code",
   "execution_count": 55,
   "metadata": {
    "collapsed": true
   },
   "outputs": [],
   "source": [
    "from pyspark.sql import Row\n",
    "from pyspark.ml.linalg import DenseVector"
   ]
  },
  {
   "cell_type": "code",
   "execution_count": 56,
   "metadata": {},
   "outputs": [
    {
     "data": {
      "text/plain": [
       "['Pclass_indexed', 'Sex_indexed', 'Embarked_indexed', 'Title_indexed']"
      ]
     },
     "execution_count": 56,
     "metadata": {},
     "output_type": "execute_result"
    }
   ],
   "source": [
    "catVarsIndexed = [i + '_indexed' for i in catVars]\n",
    "catVarsIndexed"
   ]
  },
  {
   "cell_type": "code",
   "execution_count": 57,
   "metadata": {},
   "outputs": [
    {
     "data": {
      "text/plain": [
       "['Survived',\n",
       " 'Age',\n",
       " 'SibSp',\n",
       " 'Parch',\n",
       " 'Fare',\n",
       " 'Pclass_indexed',\n",
       " 'Sex_indexed',\n",
       " 'Embarked_indexed',\n",
       " 'Title_indexed']"
      ]
     },
     "execution_count": 57,
     "metadata": {},
     "output_type": "execute_result"
    }
   ],
   "source": [
    "featuresCol = numVars + catVarsIndexed\n",
    "featuresCol"
   ]
  },
  {
   "cell_type": "code",
   "execution_count": 58,
   "metadata": {},
   "outputs": [
    {
     "data": {
      "text/plain": [
       "['Age',\n",
       " 'SibSp',\n",
       " 'Parch',\n",
       " 'Fare',\n",
       " 'Pclass_indexed',\n",
       " 'Sex_indexed',\n",
       " 'Embarked_indexed',\n",
       " 'Title_indexed']"
      ]
     },
     "execution_count": 58,
     "metadata": {},
     "output_type": "execute_result"
    }
   ],
   "source": [
    "featuresCol.remove('Survived')\n",
    "featuresCol"
   ]
  },
  {
   "cell_type": "code",
   "execution_count": 59,
   "metadata": {},
   "outputs": [
    {
     "data": {
      "text/plain": [
       "['Mark', 'Survived']"
      ]
     },
     "execution_count": 59,
     "metadata": {},
     "output_type": "execute_result"
    }
   ],
   "source": [
    "labelCol = ['Mark','Survived']\n",
    "labelCol"
   ]
  },
  {
   "cell_type": "code",
   "execution_count": 60,
   "metadata": {},
   "outputs": [
    {
     "data": {
      "text/plain": [
       "<Row(mark, label, features)>"
      ]
     },
     "execution_count": 60,
     "metadata": {},
     "output_type": "execute_result"
    }
   ],
   "source": [
    "row = Row('mark','label','features') \n",
    "row"
   ]
  },
  {
   "cell_type": "code",
   "execution_count": 61,
   "metadata": {},
   "outputs": [
    {
     "data": {
      "text/plain": [
       "DataFrame[Mark: string, Survived: int, Age: float, SibSp: int, Parch: int, Fare: float, Pclass_indexed: double, Sex_indexed: double, Embarked_indexed: double, Title_indexed: double]"
      ]
     },
     "execution_count": 61,
     "metadata": {},
     "output_type": "execute_result"
    }
   ],
   "source": [
    "df_indexed = df_indexed[labelCol + featuresCol]\n",
    "df_indexed"
   ]
  },
  {
   "cell_type": "code",
   "execution_count": 62,
   "metadata": {},
   "outputs": [
    {
     "name": "stdout",
     "output_type": "stream",
     "text": [
      "+-----+-----+--------------------+\n",
      "| mark|label|            features|\n",
      "+-----+-----+--------------------+\n",
      "|train|    0|[22.0,1.0,0.0,7.2...|\n",
      "|train|    1|[38.0,1.0,0.0,71....|\n",
      "|train|    1|[26.0,0.0,0.0,7.9...|\n",
      "|train|    1|[35.0,1.0,0.0,53....|\n",
      "|train|    0|[35.0,0.0,0.0,8.0...|\n",
      "|train|    0|[29.8811378479003...|\n",
      "|train|    0|[54.0,0.0,0.0,51....|\n",
      "|train|    0|[2.0,3.0,1.0,21.0...|\n",
      "|train|    1|[27.0,0.0,2.0,11....|\n",
      "|train|    1|[14.0,1.0,0.0,30....|\n",
      "|train|    1|[4.0,1.0,1.0,16.7...|\n",
      "|train|    1|[58.0,0.0,0.0,26....|\n",
      "|train|    0|[20.0,0.0,0.0,8.0...|\n",
      "|train|    0|[39.0,1.0,5.0,31....|\n",
      "|train|    0|[14.0,0.0,0.0,7.8...|\n",
      "|train|    1|[55.0,0.0,0.0,16....|\n",
      "|train|    0|[2.0,4.0,1.0,29.1...|\n",
      "|train|    1|[29.8811378479003...|\n",
      "|train|    0|[31.0,1.0,0.0,18....|\n",
      "|train|    1|[29.8811378479003...|\n",
      "+-----+-----+--------------------+\n",
      "only showing top 20 rows\n",
      "\n"
     ]
    }
   ],
   "source": [
    "# 0-mark, 1-label, 2-features\n",
    "# map features to DenseVector\n",
    "lf = df_indexed.rdd.map(lambda r: (row(r[0], r[1],DenseVector(r[2:])))).toDF()\n",
    "lf.show()"
   ]
  },
  {
   "cell_type": "code",
   "execution_count": 63,
   "metadata": {},
   "outputs": [
    {
     "name": "stdout",
     "output_type": "stream",
     "text": [
      "+-----+-----+--------------------+-----+\n",
      "| mark|label|            features|index|\n",
      "+-----+-----+--------------------+-----+\n",
      "|train|    0|[22.0,1.0,0.0,7.2...|  0.0|\n",
      "|train|    1|[38.0,1.0,0.0,71....|  1.0|\n",
      "|train|    1|[26.0,0.0,0.0,7.9...|  1.0|\n",
      "+-----+-----+--------------------+-----+\n",
      "only showing top 3 rows\n",
      "\n"
     ]
    }
   ],
   "source": [
    "# index label\n",
    "# convert numeric label to categorical, which is required by\n",
    "# decisionTree and randomForest\n",
    "lf = StringIndexer(inputCol = 'label', outputCol='index').fit(lf).transform(lf)\n",
    " \n",
    "lf.show(3)"
   ]
  },
  {
   "cell_type": "markdown",
   "metadata": {},
   "source": [
    "### Split back into train/test data"
   ]
  },
  {
   "cell_type": "code",
   "execution_count": 64,
   "metadata": {
    "collapsed": true
   },
   "outputs": [],
   "source": [
    "train = lf.where(lf.mark =='train')\n",
    "test = lf.where(lf.mark =='test')"
   ]
  },
  {
   "cell_type": "code",
   "execution_count": 65,
   "metadata": {
    "collapsed": true
   },
   "outputs": [],
   "source": [
    "# random split further to get train/validate\n",
    "train, validate = train.randomSplit([0.7,0.3], seed =121)"
   ]
  },
  {
   "cell_type": "code",
   "execution_count": 66,
   "metadata": {},
   "outputs": [
    {
     "name": "stdout",
     "output_type": "stream",
     "text": [
      "Train Data Number of Row: 637\n",
      "Validate Data Number of Row: 254\n",
      "Test Data Number of Row: 418\n"
     ]
    }
   ],
   "source": [
    "print('Train Data Number of Row: '+ str(train.count()))\n",
    "print('Validate Data Number of Row: '+ str(validate.count()))\n",
    "print('Test Data Number of Row: '+ str(test.count()))"
   ]
  },
  {
   "cell_type": "markdown",
   "metadata": {},
   "source": [
    "## Modeling"
   ]
  },
  {
   "cell_type": "markdown",
   "metadata": {},
   "source": [
    "* ML is built based on DataFrame, while mllib is based on RDD\n",
    "* We'll fit the logistic, decision tree and random forest models from ML packages"
   ]
  },
  {
   "cell_type": "markdown",
   "metadata": {},
   "source": [
    "#### Logistic Regression"
   ]
  },
  {
   "cell_type": "code",
   "execution_count": 67,
   "metadata": {},
   "outputs": [],
   "source": [
    "from pyspark.ml.classification import LogisticRegression\n",
    " \n",
    "# regPara: lasso regularisation parameter (L1)\n",
    "lr = LogisticRegression(maxIter = 100, regParam = 0.05, labelCol='index').fit(train)"
   ]
  },
  {
   "cell_type": "code",
   "execution_count": 68,
   "metadata": {
    "collapsed": true
   },
   "outputs": [],
   "source": [
    "# Evaluate model based on auc ROC(default for binary classification)\n",
    "from pyspark.ml.evaluation import BinaryClassificationEvaluator\n",
    " \n",
    "def testModel(model, validate = validate):\n",
    "    pred = model.transform(validate)\n",
    "    evaluator = BinaryClassificationEvaluator(labelCol = 'index')\n",
    "    return evaluator.evaluate(pred)"
   ]
  },
  {
   "cell_type": "code",
   "execution_count": 69,
   "metadata": {},
   "outputs": [
    {
     "name": "stdout",
     "output_type": "stream",
     "text": [
      "AUC ROC of Logistic Regression model is: 0.8287225905150437\n"
     ]
    }
   ],
   "source": [
    "print('AUC ROC of Logistic Regression model is: ' + str(testModel(lr)))"
   ]
  },
  {
   "cell_type": "code",
   "execution_count": 70,
   "metadata": {},
   "outputs": [
    {
     "name": "stdout",
     "output_type": "stream",
     "text": [
      "AUC ROC of Logistic Regression model is: 0.0\n"
     ]
    }
   ],
   "source": [
    "print('AUC ROC of Logistic Regression model is: ' + str(testModel(lr, validate=test)))"
   ]
  },
  {
   "cell_type": "code",
   "execution_count": 71,
   "metadata": {},
   "outputs": [
    {
     "name": "stdout",
     "output_type": "stream",
     "text": [
      "+----+-----+--------------------+-----+--------------------+--------------------+----------+\n",
      "|mark|label|            features|index|       rawPrediction|         probability|prediction|\n",
      "+----+-----+--------------------+-----+--------------------+--------------------+----------+\n",
      "|test|    0|[34.5,0.0,0.0,7.8...|  0.0|[1.47753041249257...|[0.81419927428687...|       0.0|\n",
      "|test|    0|[47.0,1.0,0.0,7.0...|  0.0|[0.35269655769515...|[0.58727133404066...|       0.0|\n",
      "|test|    0|[62.0,0.0,0.0,9.6...|  0.0|[0.96562668368086...|[0.72424694542839...|       0.0|\n",
      "|test|    0|[27.0,0.0,0.0,8.6...|  0.0|[1.87331239459763...|[0.86684108409535...|       0.0|\n",
      "|test|    0|[22.0,1.0,1.0,12....|  0.0|[-0.1259022004883...|[0.46856596161113...|       1.0|\n",
      "+----+-----+--------------------+-----+--------------------+--------------------+----------+\n",
      "only showing top 5 rows\n",
      "\n"
     ]
    }
   ],
   "source": [
    "pred_test = lr.transform(test)\n",
    "pred_test.show(5)"
   ]
  },
  {
   "cell_type": "markdown",
   "metadata": {},
   "source": [
    "#### More Models"
   ]
  },
  {
   "cell_type": "code",
   "execution_count": 72,
   "metadata": {},
   "outputs": [],
   "source": [
    "from pyspark.ml.classification import DecisionTreeClassifier, RandomForestClassifier, GBTClassifier\n",
    " \n",
    "dt = DecisionTreeClassifier(maxDepth = 3, labelCol ='index').fit(train)\n",
    "rf = RandomForestClassifier(numTrees = 100, labelCol = 'index').fit(train)\n",
    "gbt = GBTClassifier(maxIter = 10, labelCol = 'index').fit(train)\n"
   ]
  },
  {
   "cell_type": "code",
   "execution_count": 73,
   "metadata": {},
   "outputs": [
    {
     "name": "stdout",
     "output_type": "stream",
     "text": [
      "{'DecistionTree': 0.5850012748597654, 'LogisticRegression': 0.8287225905150437, 'RandomForest': 0.8521800101988782}\n"
     ]
    }
   ],
   "source": [
    "models = {'LogisticRegression':lr,\n",
    "          'DecistionTree':dt,\n",
    "          'RandomForest':rf}\n",
    " \n",
    "modelPerf = {k:testModel(v) for k,v in models.items()}\n",
    "print(modelPerf)"
   ]
  },
  {
   "cell_type": "code",
   "execution_count": 74,
   "metadata": {},
   "outputs": [],
   "source": [
    "def model_acc(model, validate=validate):\n",
    "    pred = model.transform(validate)\n",
    "    eval_vec = np.array(get_column(pred, \"label\")) == np.array(get_column(pred, \"prediction\")) \n",
    "    return(eval_vec.sum()/len(eval_vec))"
   ]
  },
  {
   "cell_type": "code",
   "execution_count": 75,
   "metadata": {},
   "outputs": [
    {
     "data": {
      "text/plain": [
       "0.77559055118110232"
      ]
     },
     "execution_count": 75,
     "metadata": {},
     "output_type": "execute_result"
    }
   ],
   "source": [
    "model_acc(gbt)"
   ]
  },
  {
   "cell_type": "code",
   "execution_count": 76,
   "metadata": {},
   "outputs": [
    {
     "name": "stdout",
     "output_type": "stream",
     "text": [
      "{'DecistionTree': 0.79133858267716539, 'GradientBoostingMachines': 0.77559055118110232, 'LogisticRegression': 0.79133858267716539, 'RandomForest': 0.80314960629921262}\n"
     ]
    }
   ],
   "source": [
    "models = {'LogisticRegression':lr,\n",
    "          'DecistionTree':dt,\n",
    "          'RandomForest':rf,\n",
    "          'GradientBoostingMachines':gbt}\n",
    "\n",
    "modelPerf = {k:model_acc(v) for k,v in models.items()}\n",
    "print(modelPerf)"
   ]
  },
  {
   "cell_type": "markdown",
   "metadata": {},
   "source": [
    "#### Tuning"
   ]
  },
  {
   "cell_type": "code",
   "execution_count": 77,
   "metadata": {},
   "outputs": [
    {
     "name": "stdout",
     "output_type": "stream",
     "text": [
      "AUC ROC of Decision Tree model is(for maxDepth= 0): 0.5\n",
      "AUC ROC of Decision Tree model is(for maxDepth= 1): 0.75790413054564\n",
      "AUC ROC of Decision Tree model is(for maxDepth= 2): 0.8093128505864354\n",
      "AUC ROC of Decision Tree model is(for maxDepth= 3): 0.5850012748597655\n",
      "AUC ROC of Decision Tree model is(for maxDepth= 4): 0.5783720040795512\n",
      "AUC ROC of Decision Tree model is(for maxDepth= 5): 0.6147055073941866\n",
      "AUC ROC of Decision Tree model is(for maxDepth= 6): 0.6425930647628761\n",
      "AUC ROC of Decision Tree model is(for maxDepth= 7): 0.6685683324834268\n",
      "AUC ROC of Decision Tree model is(for maxDepth= 8): 0.7060810810810811\n",
      "AUC ROC of Decision Tree model is(for maxDepth= 9): 0.7025752167261601\n"
     ]
    }
   ],
   "source": [
    "for i in range(10):\n",
    "    dt = DecisionTreeClassifier(maxDepth = i, labelCol ='index').fit(train)\n",
    "    print('AUC ROC of Decision Tree model is' + '(for maxDepth= ' + str(i) + '): ' + str(testModel(dt)))"
   ]
  },
  {
   "cell_type": "code",
   "execution_count": 79,
   "metadata": {},
   "outputs": [
    {
     "name": "stdout",
     "output_type": "stream",
     "text": [
      "AUC ROC of Random Forest model is(for numTrees= 5): 0.8485466598674147\n",
      "AUC ROC of Random Forest model is(for numTrees= 6): 0.8284357470678226\n",
      "AUC ROC of Random Forest model is(for numTrees= 7): 0.84016445690974\n",
      "AUC ROC of Random Forest model is(for numTrees= 8): 0.8427779194288628\n",
      "AUC ROC of Random Forest model is(for numTrees= 9): 0.8441165221825597\n",
      "AUC ROC of Random Forest model is(for numTrees= 10): 0.8422998470168284\n",
      "AUC ROC of Random Forest model is(for numTrees= 11): 0.8510007649158592\n",
      "AUC ROC of Random Forest model is(for numTrees= 12): 0.8465706272310043\n",
      "AUC ROC of Random Forest model is(for numTrees= 13): 0.8494709331973487\n",
      "AUC ROC of Random Forest model is(for numTrees= 14): 0.8494709331973481\n",
      "AUC ROC of Random Forest model is(for numTrees= 15): 0.8480367159612443\n",
      "AUC ROC of Random Forest model is(for numTrees= 16): 0.833885772565018\n",
      "AUC ROC of Random Forest model is(for numTrees= 17): 0.8526899541050484\n",
      "AUC ROC of Random Forest model is(for numTrees= 18): 0.8492797042325345\n",
      "AUC ROC of Random Forest model is(for numTrees= 19): 0.8411524732279452\n",
      "AUC ROC of Random Forest model is(for numTrees= 20): 0.8544747577766449\n",
      "AUC ROC of Random Forest model is(for numTrees= 21): 0.843319734829169\n",
      "AUC ROC of Random Forest model is(for numTrees= 22): 0.8580124936257014\n",
      "AUC ROC of Random Forest model is(for numTrees= 23): 0.8494390617032127\n",
      "AUC ROC of Random Forest model is(for numTrees= 24): 0.852434982151963\n",
      "AUC ROC of Random Forest model is(for numTrees= 25): 0.8444671086180515\n",
      "AUC ROC of Random Forest model is(for numTrees= 26): 0.8479092299847015\n",
      "AUC ROC of Random Forest model is(for numTrees= 27): 0.8459969403365625\n",
      "AUC ROC of Random Forest model is(for numTrees= 28): 0.8441483936766957\n",
      "AUC ROC of Random Forest model is(for numTrees= 29): 0.8575981642019381\n",
      "AUC ROC of Random Forest model is(for numTrees= 30): 0.8460606833248345\n",
      "AUC ROC of Random Forest model is(for numTrees= 31): 0.846188169301377\n",
      "AUC ROC of Random Forest model is(for numTrees= 32): 0.8469212136664969\n",
      "AUC ROC of Random Forest model is(for numTrees= 33): 0.852562468128506\n",
      "AUC ROC of Random Forest model is(for numTrees= 34): 0.842682304946456\n",
      "AUC ROC of Random Forest model is(for numTrees= 35): 0.8467618561958188\n",
      "AUC ROC of Random Forest model is(for numTrees= 36): 0.8391445690973991\n",
      "AUC ROC of Random Forest model is(for numTrees= 37): 0.8478454869964301\n",
      "AUC ROC of Random Forest model is(for numTrees= 38): 0.8452320244773073\n",
      "AUC ROC of Random Forest model is(for numTrees= 39): 0.8468255991840895\n",
      "AUC ROC of Random Forest model is(for numTrees= 40): 0.843510963793983\n",
      "AUC ROC of Random Forest model is(for numTrees= 41): 0.8472718001019885\n",
      "AUC ROC of Random Forest model is(for numTrees= 42): 0.8550803161652216\n",
      "AUC ROC of Random Forest model is(for numTrees= 43): 0.849789648138705\n",
      "AUC ROC of Random Forest model is(for numTrees= 44): 0.8528493115757267\n",
      "AUC ROC of Random Forest model is(for numTrees= 45): 0.8561002039775629\n",
      "AUC ROC of Random Forest model is(for numTrees= 46): 0.8550165731769506\n",
      "AUC ROC of Random Forest model is(for numTrees= 47): 0.848610402855686\n",
      "AUC ROC of Random Forest model is(for numTrees= 48): 0.8508095359510457\n",
      "AUC ROC of Random Forest model is(for numTrees= 49): 0.8595104538500765\n",
      "AUC ROC of Random Forest model is(for numTrees= 50): 0.8546341152473229\n",
      "AUC ROC of Random Forest model is(for numTrees= 51): 0.8424592044875066\n",
      "AUC ROC of Random Forest model is(for numTrees= 52): 0.8483554309026005\n",
      "AUC ROC of Random Forest model is(for numTrees= 53): 0.8511919938806733\n",
      "AUC ROC of Random Forest model is(for numTrees= 54): 0.8468893421723611\n",
      "AUC ROC of Random Forest model is(for numTrees= 55): 0.8468255991840901\n",
      "AUC ROC of Random Forest model is(for numTrees= 56): 0.8516381947985723\n",
      "AUC ROC of Random Forest model is(for numTrees= 57): 0.8529130545639978\n",
      "AUC ROC of Random Forest model is(for numTrees= 58): 0.8566738908720042\n",
      "AUC ROC of Random Forest model is(for numTrees= 59): 0.8472399286078532\n",
      "AUC ROC of Random Forest model is(for numTrees= 60): 0.849725905150434\n",
      "AUC ROC of Random Forest model is(for numTrees= 61): 0.8438934217236106\n",
      "AUC ROC of Random Forest model is(for numTrees= 62): 0.849630290668027\n",
      "AUC ROC of Random Forest model is(for numTrees= 63): 0.8495028046914841\n",
      "AUC ROC of Random Forest model is(for numTrees= 64): 0.8520525242223354\n",
      "AUC ROC of Random Forest model is(for numTrees= 65): 0.855271545130036\n",
      "AUC ROC of Random Forest model is(for numTrees= 66): 0.8490884752677204\n",
      "AUC ROC of Random Forest model is(for numTrees= 67): 0.8602434982151965\n",
      "AUC ROC of Random Forest model is(for numTrees= 68): 0.8483873023967364\n",
      "AUC ROC of Random Forest model is(for numTrees= 69): 0.8485466598674146\n",
      "AUC ROC of Random Forest model is(for numTrees= 70): 0.8492478327383987\n",
      "AUC ROC of Random Forest model is(for numTrees= 71): 0.8504270780214178\n",
      "AUC ROC of Random Forest model is(for numTrees= 72): 0.848674145843957\n",
      "AUC ROC of Random Forest model is(for numTrees= 73): 0.8483554309026011\n",
      "AUC ROC of Random Forest model is(for numTrees= 74): 0.8515107088220295\n",
      "AUC ROC of Random Forest model is(for numTrees= 75): 0.8546978582355942\n",
      "AUC ROC of Random Forest model is(for numTrees= 76): 0.8460606833248344\n",
      "AUC ROC of Random Forest model is(for numTrees= 77): 0.8522756246812849\n",
      "AUC ROC of Random Forest model is(for numTrees= 78): 0.8485147883732791\n",
      "AUC ROC of Random Forest model is(for numTrees= 79): 0.8487378888322282\n",
      "AUC ROC of Random Forest model is(for numTrees= 80): 0.8539329423763389\n",
      "AUC ROC of Random Forest model is(for numTrees= 81): 0.8493115757266704\n",
      "AUC ROC of Random Forest model is(for numTrees= 82): 0.850490821009689\n",
      "AUC ROC of Random Forest model is(for numTrees= 83): 0.8487697603263642\n",
      "AUC ROC of Random Forest model is(for numTrees= 84): 0.8507457929627745\n",
      "AUC ROC of Random Forest model is(for numTrees= 85): 0.842395461499235\n",
      "AUC ROC of Random Forest model is(for numTrees= 86): 0.8488016318204998\n",
      "AUC ROC of Random Forest model is(for numTrees= 87): 0.8469849566547679\n",
      "AUC ROC of Random Forest model is(for numTrees= 88): 0.855622131565528\n",
      "AUC ROC of Random Forest model is(for numTrees= 89): 0.8475586435492094\n",
      "AUC ROC of Random Forest model is(for numTrees= 90): 0.8498215196328406\n",
      "AUC ROC of Random Forest model is(for numTrees= 91): 0.8441802651708311\n",
      "AUC ROC of Random Forest model is(for numTrees= 92): 0.8486104028556865\n",
      "AUC ROC of Random Forest model is(for numTrees= 93): 0.849949005609383\n",
      "AUC ROC of Random Forest model is(for numTrees= 94): 0.8482279449260584\n",
      "AUC ROC of Random Forest model is(for numTrees= 95): 0.8495028046914836\n",
      "AUC ROC of Random Forest model is(for numTrees= 96): 0.8468893421723612\n",
      "AUC ROC of Random Forest model is(for numTrees= 97): 0.8488972463029066\n",
      "AUC ROC of Random Forest model is(for numTrees= 98): 0.8426823049464558\n",
      "AUC ROC of Random Forest model is(for numTrees= 99): 0.8497259051504339\n",
      "AUC ROC of Random Forest model is(for numTrees= 100): 0.8521800101988785\n",
      "AUC ROC of Random Forest model is(for numTrees= 101): 0.8505226925038242\n",
      "AUC ROC of Random Forest model is(for numTrees= 102): 0.8499171341152477\n",
      "AUC ROC of Random Forest model is(for numTrees= 103): 0.8492159612442631\n",
      "AUC ROC of Random Forest model is(for numTrees= 104): 0.8530724120346763\n",
      "AUC ROC of Random Forest model is(for numTrees= 105): 0.8538691993880674\n",
      "AUC ROC of Random Forest model is(for numTrees= 106): 0.8506501784803672\n",
      "AUC ROC of Random Forest model is(for numTrees= 107): 0.8502358490566038\n",
      "AUC ROC of Random Forest model is(for numTrees= 108): 0.8517975522692507\n",
      "AUC ROC of Random Forest model is(for numTrees= 109): 0.8465387557368687\n",
      "AUC ROC of Random Forest model is(for numTrees= 110): 0.8518931667516573\n",
      "AUC ROC of Random Forest model is(for numTrees= 111): 0.8497896481387046\n",
      "AUC ROC of Random Forest model is(for numTrees= 112): 0.8479729729729731\n",
      "AUC ROC of Random Forest model is(for numTrees= 113): 0.8560683324834272\n",
      "AUC ROC of Random Forest model is(for numTrees= 114): 0.8555265170831208\n",
      "AUC ROC of Random Forest model is(for numTrees= 115): 0.8487697603263646\n",
      "AUC ROC of Random Forest model is(for numTrees= 116): 0.8558452320244774\n",
      "AUC ROC of Random Forest model is(for numTrees= 117): 0.8503633350331465\n",
      "AUC ROC of Random Forest model is(for numTrees= 118): 0.8508732789393163\n",
      "AUC ROC of Random Forest model is(for numTrees= 119): 0.850937021927588\n",
      "AUC ROC of Random Forest model is(for numTrees= 120): 0.8505226925038247\n",
      "AUC ROC of Random Forest model is(for numTrees= 121): 0.8500764915859261\n",
      "AUC ROC of Random Forest model is(for numTrees= 122): 0.8457419683834778\n",
      "AUC ROC of Random Forest model is(for numTrees= 123): 0.8481004589495158\n",
      "AUC ROC of Random Forest model is(for numTrees= 124): 0.8452638959714434\n",
      "AUC ROC of Random Forest model is(for numTrees= 125): 0.8482916879143294\n",
      "AUC ROC of Random Forest model is(for numTrees= 126): 0.8492478327383992\n",
      "AUC ROC of Random Forest model is(for numTrees= 127): 0.8488972463029072\n",
      "AUC ROC of Random Forest model is(for numTrees= 128): 0.8499808771035189\n",
      "AUC ROC of Random Forest model is(for numTrees= 129): 0.8527855685874557\n",
      "AUC ROC of Random Forest model is(for numTrees= 130): 0.8465068842427332\n",
      "AUC ROC of Random Forest model is(for numTrees= 131): 0.8473674145843959\n",
      "AUC ROC of Random Forest model is(for numTrees= 132): 0.8469530851606321\n",
      "AUC ROC of Random Forest model is(for numTrees= 133): 0.8502995920448746\n",
      "AUC ROC of Random Forest model is(for numTrees= 134): 0.8454232534421214\n",
      "AUC ROC of Random Forest model is(for numTrees= 135): 0.8506501784803673\n",
      "AUC ROC of Random Forest model is(for numTrees= 136): 0.8441802651708314\n",
      "AUC ROC of Random Forest model is(for numTrees= 137): 0.8444989801121879\n",
      "AUC ROC of Random Forest model is(for numTrees= 138): 0.8488335033146358\n",
      "AUC ROC of Random Forest model is(for numTrees= 139): 0.8501402345741969\n",
      "AUC ROC of Random Forest model is(for numTrees= 140): 0.8449133095359513\n",
      "AUC ROC of Random Forest model is(for numTrees= 141): 0.8472399286078531\n",
      "AUC ROC of Random Forest model is(for numTrees= 142): 0.8539010708822034\n",
      "AUC ROC of Random Forest model is(for numTrees= 143): 0.8483235594084653\n",
      "AUC ROC of Random Forest model is(for numTrees= 144): 0.8472718001019885\n",
      "AUC ROC of Random Forest model is(for numTrees= 145): 0.8488972463029072\n",
      "AUC ROC of Random Forest model is(for numTrees= 146): 0.8486422743498218\n",
      "AUC ROC of Random Forest model is(for numTrees= 147): 0.8435747067822538\n",
      "AUC ROC of Random Forest model is(for numTrees= 148): 0.8474311575726674\n",
      "AUC ROC of Random Forest model is(for numTrees= 149): 0.8467299847016828\n",
      "AUC ROC of Random Forest model is(for numTrees= 150): 0.8516700662927075\n",
      "AUC ROC of Random Forest model is(for numTrees= 151): 0.8477498725140236\n",
      "AUC ROC of Random Forest model is(for numTrees= 152): 0.8488653748087712\n",
      "AUC ROC of Random Forest model is(for numTrees= 153): 0.8482916879143292\n",
      "AUC ROC of Random Forest model is(for numTrees= 154): 0.8476542580316169\n",
      "AUC ROC of Random Forest model is(for numTrees= 155): 0.8521481387047427\n",
      "AUC ROC of Random Forest model is(for numTrees= 156): 0.8526580826109129\n",
      "AUC ROC of Random Forest model is(for numTrees= 157): 0.8468893421723609\n",
      "AUC ROC of Random Forest model is(for numTrees= 158): 0.8511919938806735\n",
      "AUC ROC of Random Forest model is(for numTrees= 159): 0.8507776644569094\n",
      "AUC ROC of Random Forest model is(for numTrees= 160): 0.851415094339623\n",
      "AUC ROC of Random Forest model is(for numTrees= 161): 0.8482598164201941\n",
      "AUC ROC of Random Forest model is(for numTrees= 162): 0.8484829168791432\n",
      "AUC ROC of Random Forest model is(for numTrees= 163): 0.8496302906680266\n",
      "AUC ROC of Random Forest model is(for numTrees= 164): 0.8466662417134119\n",
      "AUC ROC of Random Forest model is(for numTrees= 165): 0.8455826109127997\n",
      "AUC ROC of Random Forest model is(for numTrees= 166): 0.8506183069862316\n",
      "AUC ROC of Random Forest model is(for numTrees= 167): 0.8490247322794495\n",
      "AUC ROC of Random Forest model is(for numTrees= 168): 0.8488653748087713\n",
      "AUC ROC of Random Forest model is(for numTrees= 169): 0.848610402855686\n",
      "AUC ROC of Random Forest model is(for numTrees= 170): 0.8517019377868437\n",
      "AUC ROC of Random Forest model is(for numTrees= 171): 0.8495984191738913\n",
      "AUC ROC of Random Forest model is(for numTrees= 172): 0.8501083630800611\n",
      "AUC ROC of Random Forest model is(for numTrees= 173): 0.8448176950535444\n",
      "AUC ROC of Random Forest model is(for numTrees= 174): 0.8488016318204998\n",
      "AUC ROC of Random Forest model is(for numTrees= 175): 0.8516700662927078\n",
      "AUC ROC of Random Forest model is(for numTrees= 176): 0.8473674145843955\n",
      "AUC ROC of Random Forest model is(for numTrees= 177): 0.8508414074451813\n",
      "AUC ROC of Random Forest model is(for numTrees= 178): 0.8486741458439573\n",
      "AUC ROC of Random Forest model is(for numTrees= 179): 0.8492478327383989\n",
      "AUC ROC of Random Forest model is(for numTrees= 180): 0.8461244263131052\n",
      "AUC ROC of Random Forest model is(for numTrees= 181): 0.8490884752677206\n",
      "AUC ROC of Random Forest model is(for numTrees= 182): 0.8466343702192762\n",
      "AUC ROC of Random Forest model is(for numTrees= 183): 0.8488016318205001\n",
      "AUC ROC of Random Forest model is(for numTrees= 184): 0.8452320244773074\n",
      "AUC ROC of Random Forest model is(for numTrees= 185): 0.8469530851606323\n",
      "AUC ROC of Random Forest model is(for numTrees= 186): 0.8494071902090771\n",
      "AUC ROC of Random Forest model is(for numTrees= 187): 0.8525624681285059\n",
      "AUC ROC of Random Forest model is(for numTrees= 188): 0.849885262621112\n",
      "AUC ROC of Random Forest model is(for numTrees= 189): 0.8467618561958185\n",
      "AUC ROC of Random Forest model is(for numTrees= 190): 0.8472399286078536\n",
      "AUC ROC of Random Forest model is(for numTrees= 191): 0.853518612952575\n",
      "AUC ROC of Random Forest model is(for numTrees= 192): 0.8507776644569098\n",
      "AUC ROC of Random Forest model is(for numTrees= 193): 0.8477817440081592\n",
      "AUC ROC of Random Forest model is(for numTrees= 194): 0.8516700662927079\n",
      "AUC ROC of Random Forest model is(for numTrees= 195): 0.8487060173380928\n",
      "AUC ROC of Random Forest model is(for numTrees= 196): 0.8506183069862315\n",
      "AUC ROC of Random Forest model is(for numTrees= 197): 0.8513513513513512\n",
      "AUC ROC of Random Forest model is(for numTrees= 198): 0.8472718001019889\n",
      "AUC ROC of Random Forest model is(for numTrees= 199): 0.849502804691484\n"
     ]
    }
   ],
   "source": [
    "for i in range(5, 200):\n",
    "    rf = RandomForestClassifier(numTrees = i, labelCol = 'index').fit(train)\n",
    "    print('AUC ROC of Random Forest model is' + '(for numTrees= ' + str(i) + '): ' + str(testModel(rf)))"
   ]
  },
  {
   "cell_type": "code",
   "execution_count": 80,
   "metadata": {
    "collapsed": true
   },
   "outputs": [],
   "source": [
    "sc.stop()"
   ]
  }
 ],
 "metadata": {
  "anaconda-cloud": {},
  "kernelspec": {
   "display_name": "Python 3",
   "language": "python",
   "name": "python3"
  },
  "language_info": {
   "codemirror_mode": {
    "name": "ipython",
    "version": 3
   },
   "file_extension": ".py",
   "mimetype": "text/x-python",
   "name": "python",
   "nbconvert_exporter": "python",
   "pygments_lexer": "ipython3",
   "version": "3.5.2"
  },
  "widgets": {
   "state": {},
   "version": "1.1.2"
  }
 },
 "nbformat": 4,
 "nbformat_minor": 1
}
